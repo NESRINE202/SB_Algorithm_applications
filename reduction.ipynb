{
 "cells": [
  {
   "cell_type": "code",
   "execution_count": 1,
   "metadata": {},
   "outputs": [],
   "source": [
    "import numpy as np \n",
    "# import matplotlib.pyplot as plt "
   ]
  },
  {
   "cell_type": "markdown",
   "metadata": {},
   "source": [
    "# **Testing reduction**"
   ]
  },
  {
   "cell_type": "code",
   "execution_count": 2,
   "metadata": {},
   "outputs": [],
   "source": [
    "Size  = 20\n",
    "Matrix_B =np.random.permutation(Size*Size).reshape((Size,Size))"
   ]
  },
  {
   "cell_type": "code",
   "execution_count": 3,
   "metadata": {},
   "outputs": [
    {
     "data": {
      "text/plain": [
       "array([[388, 213, 102, 211, 169,  80, 333,  55, 217, 165, 284, 164, 195,\n",
       "        330, 253, 304, 328, 107, 140,  63],\n",
       "       [137, 271,  49, 224, 171, 269, 384,  85, 237, 316, 175, 136,   0,\n",
       "        372, 250,  32, 268,  47, 307,   5],\n",
       "       [ 28, 144,  62, 266,  46, 367, 139, 399, 129,  57, 363, 364,  87,\n",
       "         16, 215, 320, 391, 172, 185, 111],\n",
       "       [  2, 342, 229, 208, 225, 389,  79,  21, 128,  33,  31,  38, 252,\n",
       "        354, 392, 251, 159, 153, 275,  66],\n",
       "       [368, 132, 115, 298, 150, 338, 212, 204, 100,  27,  98,  61,  43,\n",
       "        149, 255,  15, 288,  84,  40, 176],\n",
       "       [240,  17,  90,  19, 118, 360, 197,  52,  51, 272, 394,  39, 104,\n",
       "        311, 188,  65, 170,  23,   9, 101],\n",
       "       [103,  95, 294, 201, 162, 359, 267, 377, 180, 383, 141, 289,  72,\n",
       "        336, 203, 190, 143, 344, 121,  99],\n",
       "       [ 86, 148, 256,  74,  71, 396, 214,  36, 260, 236, 163,  75, 302,\n",
       "        221,  13, 303, 295, 352, 322,  29],\n",
       "       [161,  14,   6, 248, 349, 378, 319, 317, 347,  30,  10, 124, 147,\n",
       "        373, 348, 286, 324, 227, 187, 181],\n",
       "       [138, 105, 242, 301,  82, 219, 334,  59, 300, 223, 113,  25, 390,\n",
       "        282, 270, 258, 332, 184,  76,  97],\n",
       "       [346, 339, 235, 174,  83, 291, 168, 120, 261, 218, 238, 263,  44,\n",
       "         78, 264, 362,  11, 210, 112, 326],\n",
       "       [179,  24,   3, 385, 381, 226, 127, 151, 123, 310, 292,  41, 220,\n",
       "        157, 299,  50,   7,  77,   1, 207],\n",
       "       [145, 154, 257,  69, 314, 158, 312,  37,  45,  12,  93, 276, 308,\n",
       "        290, 335, 305,  96, 109, 230, 239],\n",
       "       [ 56, 281, 216, 285, 380, 309, 247, 186, 246, 321, 296, 166, 202,\n",
       "        274, 343, 365, 397, 241,  53,  18],\n",
       "       [114, 155, 265, 273, 193,  89, 318, 191, 142, 279, 356,  54, 374,\n",
       "        110, 192, 156, 313, 280, 331, 244],\n",
       "       [ 92, 183, 323, 259, 329,  58,  60, 262, 287,  70, 131, 178, 369,\n",
       "         48,  42, 386,   8, 379, 375, 297],\n",
       "       [ 20, 283, 231, 350,   4, 337, 198, 205, 177,  88, 345, 119, 358,\n",
       "        189,  91, 134, 249, 194, 228, 117],\n",
       "       [278, 206,  67, 361, 254, 325,  73, 306, 353, 126, 182, 277,  81,\n",
       "        152, 387, 243, 355, 232, 340,  35],\n",
       "       [341, 146, 351, 327, 199,  94, 108, 200, 125, 173,  22, 160, 370,\n",
       "        376, 222, 315, 393, 245, 133, 167],\n",
       "       [130, 395,  64, 122,  68,  26, 371, 357, 233,  34, 293, 116, 382,\n",
       "        209, 234, 398, 366, 135, 196, 106]])"
      ]
     },
     "execution_count": 3,
     "metadata": {},
     "output_type": "execute_result"
    }
   ],
   "source": [
    "Matrix_B"
   ]
  },
  {
   "cell_type": "code",
   "execution_count": 4,
   "metadata": {},
   "outputs": [],
   "source": [
    "B = np.array([Matrix_B[i,j] for i in range(Size) for j in range(Size) ])"
   ]
  },
  {
   "cell_type": "code",
   "execution_count": 5,
   "metadata": {},
   "outputs": [],
   "source": [
    "# B "
   ]
  },
  {
   "cell_type": "code",
   "execution_count": 6,
   "metadata": {},
   "outputs": [],
   "source": [
    "B_perm = np.array([Matrix_B[i,j] for j in range(Size) for i in range(Size) ])"
   ]
  },
  {
   "cell_type": "code",
   "execution_count": 7,
   "metadata": {},
   "outputs": [],
   "source": [
    "# B_perm"
   ]
  },
  {
   "cell_type": "code",
   "execution_count": 8,
   "metadata": {},
   "outputs": [],
   "source": [
    "Somme_1  = sum([Matrix_B[i,j]*Matrix_B[i,k] for k in range(Size) for j in range(Size) for i in range(Size) if j!=k])"
   ]
  },
  {
   "cell_type": "code",
   "execution_count": 9,
   "metadata": {},
   "outputs": [
    {
     "data": {
      "text/plain": [
       "302064404"
      ]
     },
     "execution_count": 9,
     "metadata": {},
     "output_type": "execute_result"
    }
   ],
   "source": [
    "Somme_1"
   ]
  },
  {
   "cell_type": "code",
   "execution_count": 10,
   "metadata": {},
   "outputs": [
    {
     "data": {
      "text/plain": [
       "305790990"
      ]
     },
     "execution_count": 10,
     "metadata": {},
     "output_type": "execute_result"
    }
   ],
   "source": [
    "Somme_2  = sum([Matrix_B[i,j]*Matrix_B[k,j] for k in range(Size) for j in range(Size) for i in range(Size) if i!=k])\n",
    "Somme_2"
   ]
  },
  {
   "cell_type": "code",
   "execution_count": 11,
   "metadata": {},
   "outputs": [
    {
     "data": {
      "text/plain": [
       "13521758"
      ]
     },
     "execution_count": 11,
     "metadata": {},
     "output_type": "execute_result"
    }
   ],
   "source": [
    "Somme_3 = sum([(sum( Matrix_B[i,j] for j in range(Size))-sum(Matrix_B[j,i]for j in range(Size)))**2 for i in range(Size)])\n",
    "Somme_3"
   ]
  },
  {
   "cell_type": "code",
   "execution_count": 12,
   "metadata": {},
   "outputs": [
    {
     "data": {
      "text/plain": [
       "13521758"
      ]
     },
     "execution_count": 12,
     "metadata": {},
     "output_type": "execute_result"
    }
   ],
   "source": [
    "D = np.sum(Matrix_B,axis = 1)- np.sum(Matrix_B,axis = 0)\n",
    "D.T@D"
   ]
  },
  {
   "cell_type": "code",
   "execution_count": 13,
   "metadata": {},
   "outputs": [],
   "source": [
    "S = 0\n",
    "for i in range(len(Matrix_B)): \n",
    "    S1 = sum(Matrix_B[i,:])\n",
    "    S2 = sum(Matrix_B[:,i])\n",
    "    S+= (S1-S2)**2"
   ]
  },
  {
   "cell_type": "code",
   "execution_count": 14,
   "metadata": {},
   "outputs": [
    {
     "data": {
      "text/plain": [
       "13521758"
      ]
     },
     "execution_count": 14,
     "metadata": {},
     "output_type": "execute_result"
    }
   ],
   "source": [
    "S "
   ]
  },
  {
   "cell_type": "code",
   "execution_count": 15,
   "metadata": {},
   "outputs": [],
   "source": [
    "Somme_3_ = D.T @ D"
   ]
  },
  {
   "cell_type": "code",
   "execution_count": 16,
   "metadata": {},
   "outputs": [
    {
     "data": {
      "text/plain": [
       "15804431"
      ]
     },
     "execution_count": 16,
     "metadata": {},
     "output_type": "execute_result"
    }
   ],
   "source": [
    "Somme_4 = sum([Matrix_B[i,j]*Matrix_B[j,i] for i in range(Size) for j in range(Size)])\n",
    "Somme_4"
   ]
  },
  {
   "cell_type": "code",
   "execution_count": 17,
   "metadata": {},
   "outputs": [],
   "source": [
    "Somme_4_ = np.sum(Matrix_B*Matrix_B.T)"
   ]
  },
  {
   "cell_type": "code",
   "execution_count": 18,
   "metadata": {},
   "outputs": [
    {
     "data": {
      "text/plain": [
       "15804431"
      ]
     },
     "execution_count": 18,
     "metadata": {},
     "output_type": "execute_result"
    }
   ],
   "source": [
    "Somme_4_"
   ]
  },
  {
   "cell_type": "markdown",
   "metadata": {},
   "source": [
    "# Création des matrices C et P "
   ]
  },
  {
   "cell_type": "code",
   "execution_count": 19,
   "metadata": {},
   "outputs": [],
   "source": [
    "def rotation_lignes(Matrix,n): \n",
    "    \n",
    "    for _ in range(n):\n",
    "        Ligne_0 = Matrix[0,:].copy()\n",
    "        for i in range(len(Matrix)- 1): \n",
    "            Matrix[i,:] = Matrix[i+1,:]\n",
    "\n",
    "        Matrix[-1,:] = Ligne_0\n",
    "\n",
    "    return Matrix"
   ]
  },
  {
   "cell_type": "code",
   "execution_count": 20,
   "metadata": {},
   "outputs": [
    {
     "data": {
      "text/plain": [
       "array([[0., 0., 0., 1.],\n",
       "       [1., 0., 0., 0.],\n",
       "       [0., 1., 0., 0.],\n",
       "       [0., 0., 1., 0.]])"
      ]
     },
     "execution_count": 20,
     "metadata": {},
     "output_type": "execute_result"
    }
   ],
   "source": [
    "rotation_lignes(np.eye(4),3)"
   ]
  },
  {
   "cell_type": "code",
   "execution_count": 21,
   "metadata": {},
   "outputs": [],
   "source": [
    "# c = np.kron(np.eye(Size), c_n)\n"
   ]
  },
  {
   "cell_type": "code",
   "execution_count": 22,
   "metadata": {},
   "outputs": [],
   "source": [
    "# c"
   ]
  },
  {
   "cell_type": "code",
   "execution_count": 23,
   "metadata": {},
   "outputs": [],
   "source": [
    "def C(Size): \n",
    "    \n",
    "    c_n = np.zeros((Size,Size))\n",
    "    for i in range(Size-1): \n",
    "        c_n+=rotation_lignes(np.eye(Size),i+1)\n",
    "\n",
    "    c = np.kron(np.eye(Size), c_n)\n",
    "\n",
    "    return c "
   ]
  },
  {
   "cell_type": "code",
   "execution_count": 24,
   "metadata": {},
   "outputs": [
    {
     "data": {
      "text/plain": [
       "array([[0., 1., 1., ..., 0., 0., 0.],\n",
       "       [1., 0., 1., ..., 0., 0., 0.],\n",
       "       [1., 1., 0., ..., 0., 0., 0.],\n",
       "       ...,\n",
       "       [0., 0., 0., ..., 0., 1., 1.],\n",
       "       [0., 0., 0., ..., 1., 0., 1.],\n",
       "       [0., 0., 0., ..., 1., 1., 0.]])"
      ]
     },
     "execution_count": 24,
     "metadata": {},
     "output_type": "execute_result"
    }
   ],
   "source": [
    "C(Size)"
   ]
  },
  {
   "cell_type": "code",
   "execution_count": 25,
   "metadata": {},
   "outputs": [],
   "source": [
    "S1 = B.T @ C(Size) @B "
   ]
  },
  {
   "cell_type": "code",
   "execution_count": 26,
   "metadata": {},
   "outputs": [
    {
     "data": {
      "text/plain": [
       "0.0"
      ]
     },
     "execution_count": 26,
     "metadata": {},
     "output_type": "execute_result"
    }
   ],
   "source": [
    "S1- Somme_1"
   ]
  },
  {
   "cell_type": "code",
   "execution_count": 27,
   "metadata": {},
   "outputs": [],
   "source": [
    "def permutation_matrix(X, f_X):\n",
    "    n = len(X)\n",
    "    P = np.zeros((n, n), dtype=int)  # Créer une matrice remplie de zéros de taille nxn\n",
    "\n",
    "    # Remplir la matrice de permutation\n",
    "    for i in range(n):\n",
    "        index = np.where(f_X==X[i])[0][0]\n",
    "        P[index][i] = 1\n",
    "\n",
    "    return P"
   ]
  },
  {
   "cell_type": "code",
   "execution_count": 28,
   "metadata": {},
   "outputs": [],
   "source": [
    "P= permutation_matrix(B,B_perm)"
   ]
  },
  {
   "cell_type": "code",
   "execution_count": 29,
   "metadata": {},
   "outputs": [
    {
     "data": {
      "text/plain": [
       "array([ True,  True,  True,  True,  True,  True,  True,  True,  True,\n",
       "        True,  True,  True,  True,  True,  True,  True,  True,  True,\n",
       "        True,  True,  True,  True,  True,  True,  True,  True,  True,\n",
       "        True,  True,  True,  True,  True,  True,  True,  True,  True,\n",
       "        True,  True,  True,  True,  True,  True,  True,  True,  True,\n",
       "        True,  True,  True,  True,  True,  True,  True,  True,  True,\n",
       "        True,  True,  True,  True,  True,  True,  True,  True,  True,\n",
       "        True,  True,  True,  True,  True,  True,  True,  True,  True,\n",
       "        True,  True,  True,  True,  True,  True,  True,  True,  True,\n",
       "        True,  True,  True,  True,  True,  True,  True,  True,  True,\n",
       "        True,  True,  True,  True,  True,  True,  True,  True,  True,\n",
       "        True,  True,  True,  True,  True,  True,  True,  True,  True,\n",
       "        True,  True,  True,  True,  True,  True,  True,  True,  True,\n",
       "        True,  True,  True,  True,  True,  True,  True,  True,  True,\n",
       "        True,  True,  True,  True,  True,  True,  True,  True,  True,\n",
       "        True,  True,  True,  True,  True,  True,  True,  True,  True,\n",
       "        True,  True,  True,  True,  True,  True,  True,  True,  True,\n",
       "        True,  True,  True,  True,  True,  True,  True,  True,  True,\n",
       "        True,  True,  True,  True,  True,  True,  True,  True,  True,\n",
       "        True,  True,  True,  True,  True,  True,  True,  True,  True,\n",
       "        True,  True,  True,  True,  True,  True,  True,  True,  True,\n",
       "        True,  True,  True,  True,  True,  True,  True,  True,  True,\n",
       "        True,  True,  True,  True,  True,  True,  True,  True,  True,\n",
       "        True,  True,  True,  True,  True,  True,  True,  True,  True,\n",
       "        True,  True,  True,  True,  True,  True,  True,  True,  True,\n",
       "        True,  True,  True,  True,  True,  True,  True,  True,  True,\n",
       "        True,  True,  True,  True,  True,  True,  True,  True,  True,\n",
       "        True,  True,  True,  True,  True,  True,  True,  True,  True,\n",
       "        True,  True,  True,  True,  True,  True,  True,  True,  True,\n",
       "        True,  True,  True,  True,  True,  True,  True,  True,  True,\n",
       "        True,  True,  True,  True,  True,  True,  True,  True,  True,\n",
       "        True,  True,  True,  True,  True,  True,  True,  True,  True,\n",
       "        True,  True,  True,  True,  True,  True,  True,  True,  True,\n",
       "        True,  True,  True,  True,  True,  True,  True,  True,  True,\n",
       "        True,  True,  True,  True,  True,  True,  True,  True,  True,\n",
       "        True,  True,  True,  True,  True,  True,  True,  True,  True,\n",
       "        True,  True,  True,  True,  True,  True,  True,  True,  True,\n",
       "        True,  True,  True,  True,  True,  True,  True,  True,  True,\n",
       "        True,  True,  True,  True,  True,  True,  True,  True,  True,\n",
       "        True,  True,  True,  True,  True,  True,  True,  True,  True,\n",
       "        True,  True,  True,  True,  True,  True,  True,  True,  True,\n",
       "        True,  True,  True,  True,  True,  True,  True,  True,  True,\n",
       "        True,  True,  True,  True,  True,  True,  True,  True,  True,\n",
       "        True,  True,  True,  True,  True,  True,  True,  True,  True,\n",
       "        True,  True,  True,  True])"
      ]
     },
     "execution_count": 29,
     "metadata": {},
     "output_type": "execute_result"
    }
   ],
   "source": [
    "P @ B == B_perm"
   ]
  },
  {
   "cell_type": "code",
   "execution_count": 30,
   "metadata": {},
   "outputs": [],
   "source": [
    "S2 =  B.T @ P.T @ C(Size) @ P @ B"
   ]
  },
  {
   "cell_type": "code",
   "execution_count": 31,
   "metadata": {},
   "outputs": [
    {
     "data": {
      "text/plain": [
       "0.0"
      ]
     },
     "execution_count": 31,
     "metadata": {},
     "output_type": "execute_result"
    }
   ],
   "source": [
    "S2 - Somme_2"
   ]
  },
  {
   "cell_type": "code",
   "execution_count": 32,
   "metadata": {},
   "outputs": [],
   "source": [
    "S4 = B.T @ P @ B "
   ]
  },
  {
   "cell_type": "code",
   "execution_count": 33,
   "metadata": {},
   "outputs": [
    {
     "data": {
      "text/plain": [
       "0"
      ]
     },
     "execution_count": 33,
     "metadata": {},
     "output_type": "execute_result"
    }
   ],
   "source": [
    "S4 - Somme_4"
   ]
  },
  {
   "cell_type": "markdown",
   "metadata": {},
   "source": [
    "**Somme1, Somme2, somme4 Vérifiées**"
   ]
  },
  {
   "cell_type": "code",
   "execution_count": 34,
   "metadata": {},
   "outputs": [],
   "source": [
    "# Somme_3_1 = np.sum(Matrix_B,axis = 1).T @ np.sum(Matrix_B,axis = 1)\n",
    "Somme_3_1 = sum([sum(Matrix_B[i,:])**2 for i in range(Size)])"
   ]
  },
  {
   "cell_type": "code",
   "execution_count": 35,
   "metadata": {},
   "outputs": [
    {
     "data": {
      "text/plain": [
       "323317804"
      ]
     },
     "execution_count": 35,
     "metadata": {},
     "output_type": "execute_result"
    }
   ],
   "source": [
    "Somme_3_1"
   ]
  },
  {
   "cell_type": "code",
   "execution_count": 36,
   "metadata": {},
   "outputs": [
    {
     "data": {
      "text/plain": [
       "323317804.0"
      ]
     },
     "execution_count": 36,
     "metadata": {},
     "output_type": "execute_result"
    }
   ],
   "source": [
    "B.T @ C(Size) @ B + B.T @ B "
   ]
  },
  {
   "cell_type": "code",
   "execution_count": 37,
   "metadata": {},
   "outputs": [],
   "source": [
    "Somme_3_2 = np.sum(Matrix_B,axis = 0).T @ np.sum(Matrix_B,axis = 0)\n"
   ]
  },
  {
   "cell_type": "code",
   "execution_count": 38,
   "metadata": {},
   "outputs": [
    {
     "data": {
      "text/plain": [
       "327044390"
      ]
     },
     "execution_count": 38,
     "metadata": {},
     "output_type": "execute_result"
    }
   ],
   "source": [
    "Somme_3_2"
   ]
  },
  {
   "cell_type": "code",
   "execution_count": 39,
   "metadata": {},
   "outputs": [
    {
     "data": {
      "text/plain": [
       "327044390.0"
      ]
     },
     "execution_count": 39,
     "metadata": {},
     "output_type": "execute_result"
    }
   ],
   "source": [
    "B.T @P@ C(Size)@ P@ B + B.T @ B "
   ]
  },
  {
   "cell_type": "code",
   "execution_count": 40,
   "metadata": {},
   "outputs": [
    {
     "data": {
      "text/plain": [
       "318420218"
      ]
     },
     "execution_count": 40,
     "metadata": {},
     "output_type": "execute_result"
    }
   ],
   "source": [
    "Somme_3_3 = sum(sum(Matrix_B[i,:])*sum(Matrix_B[:,i]) for i in range(Size))\n",
    "Somme_3_3"
   ]
  },
  {
   "cell_type": "markdown",
   "metadata": {},
   "source": [
    "Somme_3_3 = somme_4 + whats below "
   ]
  },
  {
   "cell_type": "code",
   "execution_count": 41,
   "metadata": {},
   "outputs": [
    {
     "data": {
      "text/plain": [
       "302615787"
      ]
     },
     "execution_count": 41,
     "metadata": {},
     "output_type": "execute_result"
    }
   ],
   "source": [
    "sum([Matrix_B[i,j]*Matrix_B[k,i] for i in range(Size) for j in range(Size) for k in range(Size)if j!=k])"
   ]
  },
  {
   "cell_type": "code",
   "execution_count": 42,
   "metadata": {},
   "outputs": [
    {
     "data": {
      "text/plain": [
       "302615787.0"
      ]
     },
     "execution_count": 42,
     "metadata": {},
     "output_type": "execute_result"
    }
   ],
   "source": [
    "B.T@C(Size)@P@B "
   ]
  },
  {
   "cell_type": "code",
   "execution_count": 43,
   "metadata": {},
   "outputs": [],
   "source": [
    "S3 = B.T @ C(Size) @ B + 2*B.T @ B +B.T @P@ C(Size)@ P@ B - 2*( B.T@C(Size)@P@B + B.T@P@B)\n",
    " "
   ]
  },
  {
   "cell_type": "code",
   "execution_count": 44,
   "metadata": {},
   "outputs": [
    {
     "data": {
      "text/plain": [
       "0.0"
      ]
     },
     "execution_count": 44,
     "metadata": {},
     "output_type": "execute_result"
    }
   ],
   "source": [
    "S3-Somme_3"
   ]
  },
  {
   "cell_type": "markdown",
   "metadata": {},
   "source": [
    "# **Reduction au propre**"
   ]
  },
  {
   "cell_type": "code",
   "execution_count": 45,
   "metadata": {},
   "outputs": [],
   "source": [
    "# Size = 3"
   ]
  },
  {
   "cell_type": "code",
   "execution_count": 46,
   "metadata": {},
   "outputs": [],
   "source": [
    "def permutation_matrix(Size):\n",
    "    M =np.random.permutation(Size*Size).reshape((Size,Size))\n",
    "    X = np.array([M[i,j] for i in range(Size) for j in range(Size) ])\n",
    "    f_X = np.array([M[i,j] for j in range(Size) for i in range(Size) ])\n",
    "    n = len(X)\n",
    "    P = np.zeros((n, n), dtype=int)  \n",
    "    for i in range(n):\n",
    "        index = np.where(f_X==X[i])[0][0]\n",
    "        P[index][i] = 1\n",
    "\n",
    "    return P"
   ]
  },
  {
   "cell_type": "code",
   "execution_count": 47,
   "metadata": {},
   "outputs": [
    {
     "data": {
      "text/plain": [
       "array([[ True,  True,  True,  True,  True,  True,  True,  True,  True],\n",
       "       [ True,  True,  True,  True,  True,  True,  True,  True,  True],\n",
       "       [ True,  True,  True,  True,  True,  True,  True,  True,  True],\n",
       "       [ True,  True,  True,  True,  True,  True,  True,  True,  True],\n",
       "       [ True,  True,  True,  True,  True,  True,  True,  True,  True],\n",
       "       [ True,  True,  True,  True,  True,  True,  True,  True,  True],\n",
       "       [ True,  True,  True,  True,  True,  True,  True,  True,  True],\n",
       "       [ True,  True,  True,  True,  True,  True,  True,  True,  True],\n",
       "       [ True,  True,  True,  True,  True,  True,  True,  True,  True]])"
      ]
     },
     "execution_count": 47,
     "metadata": {},
     "output_type": "execute_result"
    }
   ],
   "source": [
    "permutation_matrix(3).T == permutation_matrix(3)"
   ]
  },
  {
   "cell_type": "code",
   "execution_count": 48,
   "metadata": {},
   "outputs": [],
   "source": [
    "P_test = permutation_matrix(Size)"
   ]
  },
  {
   "cell_type": "code",
   "execution_count": 49,
   "metadata": {},
   "outputs": [],
   "source": [
    "def C_rotation(Size): \n",
    "    \n",
    "    c_n = np.zeros((Size,Size))\n",
    "    for i in range(Size-1): \n",
    "        c_n+=rotation_lignes(np.eye(Size),i+1)\n",
    "\n",
    "    c = np.kron(np.eye(Size), c_n)\n",
    "\n",
    "    return c "
   ]
  },
  {
   "cell_type": "code",
   "execution_count": 50,
   "metadata": {},
   "outputs": [],
   "source": [
    "C_test = C_rotation(Size)"
   ]
  },
  {
   "cell_type": "code",
   "execution_count": 51,
   "metadata": {},
   "outputs": [],
   "source": [
    "# J_test = ( C+ P_test.T@C_test@P_test +P_test ) + (C_test+ P_test.T@C_test@P_test + 2*np.eye(Size*Size)-2*(C_test@P_test + P_test))"
   ]
  },
  {
   "cell_type": "code",
   "execution_count": 52,
   "metadata": {},
   "outputs": [],
   "source": [
    "# B.T @ J_test @B - (Somme_4+Somme_3+Somme_2+Somme_1)"
   ]
  },
  {
   "cell_type": "code",
   "execution_count": 53,
   "metadata": {},
   "outputs": [
    {
     "name": "stdout",
     "output_type": "stream",
     "text": [
      "Cycle d'arbitrage optimal : ['EUR', 'AUD', 'USD', 'JPY']\n",
      "Profit associé au cycle optimal : 1.090089\n"
     ]
    }
   ],
   "source": [
    "import itertools\n",
    "\n",
    "# Matrice des taux de change\n",
    "taux_de_change = [\n",
    "    [1.0, 0.8, 0.6, 110, 0.7, 1.2],  # USD\n",
    "    [1.25, 1.0, 0.75, 130, 0.9, 1.5], # EUR\n",
    "    [1.6, 1.33, 1.0, 180, 1.2, 2.0],  # GBP\n",
    "    [0.009, 0.0077, 0.0055, 1.0, 0.0068, 0.011], # JPY\n",
    "    [1.43, 1.11, 0.83, 155, 1.0, 1.67], # AUD\n",
    "    [0.83, 0.67, 0.5, 91, 0.6, 1.0] ]\n",
    "\n",
    "devises = ['USD', 'EUR', 'GBP', 'JPY', 'AUD', 'CAD']\n",
    "\n",
    "# Fonction pour trouver le cycle d'arbitrage avec le profit maximal\n",
    "def trouver_cycle_max_profit(taux_de_change):\n",
    "    n = len(taux_de_change)\n",
    "    cycle_optimal = None\n",
    "    profit_optimal = 1\n",
    "    \n",
    "    # Générer toutes les combinaisons possibles des devises\n",
    "    for r in range(2, n+1):  # Tailles différentes de combinaisons\n",
    "        permutations = itertools.permutations(range(n), r)\n",
    "    \n",
    "        for perm in permutations:\n",
    "            cycle = list(perm)\n",
    "            profit = 1\n",
    "            \n",
    "            # Calculer le profit du cycle\n",
    "            for i in range(r):  # Utiliser la taille de la combinaison actuelle\n",
    "                profit *= taux_de_change[cycle[i]][cycle[(i+1) % r]]\n",
    "            \n",
    "            # Mettre à jour le cycle optimal si le profit est plus grand\n",
    "            if profit > profit_optimal:\n",
    "                cycle_optimal = cycle\n",
    "                profit_optimal = profit\n",
    "    \n",
    "    return cycle_optimal, profit_optimal\n",
    "\n",
    "# Trouver le cycle d'arbitrage avec le profit maximal\n",
    "cycle_optimal, profit_optimal = trouver_cycle_max_profit(taux_de_change)\n",
    "\n",
    "# Afficher le cycle optimal\n",
    "if cycle_optimal:\n",
    "    print(\"Cycle d'arbitrage optimal :\", [devises[i] for i in cycle_optimal])\n",
    "    print(\"Profit associé au cycle optimal :\", profit_optimal)\n",
    "else:\n",
    "    print(\"Aucun cycle d'arbitrage trouvé.\")\n"
   ]
  },
  {
   "cell_type": "code",
   "execution_count": 54,
   "metadata": {},
   "outputs": [],
   "source": [
    "log_vectorized = np.vectorize(np.log)\n",
    "log_Taux = log_vectorized(taux_de_change)\n",
    "# log_Taux"
   ]
  },
  {
   "cell_type": "code",
   "execution_count": 55,
   "metadata": {},
   "outputs": [],
   "source": [
    "Size = len(log_Taux)"
   ]
  },
  {
   "cell_type": "code",
   "execution_count": 56,
   "metadata": {},
   "outputs": [],
   "source": [
    "H_1= -np.array([log_Taux[i,j] for i in range(len(log_Taux)) for j in range(len(log_Taux[0]))])"
   ]
  },
  {
   "cell_type": "code",
   "execution_count": 57,
   "metadata": {},
   "outputs": [
    {
     "data": {
      "text/plain": [
       "array([-0.        ,  0.22314355,  0.51082562, -4.70048037,  0.35667494,\n",
       "       -0.18232156, -0.22314355, -0.        ,  0.28768207, -4.86753445,\n",
       "        0.10536052, -0.40546511, -0.47000363, -0.28517894, -0.        ,\n",
       "       -5.19295685, -0.18232156, -0.69314718,  4.7105307 ,  4.86653495,\n",
       "        5.20300719, -0.        ,  4.99083267,  4.50986001, -0.35767444,\n",
       "       -0.10436002,  0.18632958, -5.04342512, -0.        , -0.51282363,\n",
       "        0.18632958,  0.40047757,  0.69314718, -4.51085951,  0.51082562,\n",
       "       -0.        ])"
      ]
     },
     "execution_count": 57,
     "metadata": {},
     "output_type": "execute_result"
    }
   ],
   "source": [
    "H_1 "
   ]
  },
  {
   "cell_type": "code",
   "execution_count": 58,
   "metadata": {},
   "outputs": [],
   "source": [
    "P = permutation_matrix(Size)"
   ]
  },
  {
   "cell_type": "code",
   "execution_count": 59,
   "metadata": {},
   "outputs": [],
   "source": [
    "C = C_rotation(Size)\n"
   ]
  },
  {
   "cell_type": "code",
   "execution_count": 60,
   "metadata": {},
   "outputs": [
    {
     "data": {
      "text/plain": [
       "18.973665961010276"
      ]
     },
     "execution_count": 60,
     "metadata": {},
     "output_type": "execute_result"
    }
   ],
   "source": [
    "np.linalg.norm(P@C-C@P)"
   ]
  },
  {
   "cell_type": "code",
   "execution_count": 61,
   "metadata": {},
   "outputs": [],
   "source": [
    "M1 = 1\n",
    "M2  =10"
   ]
  },
  {
   "cell_type": "code",
   "execution_count": 62,
   "metadata": {},
   "outputs": [],
   "source": [
    "A = C@P\n",
    "A1 = (A+A.T)/2\n",
    "A2 = (A - A.T)/2"
   ]
  },
  {
   "cell_type": "code",
   "execution_count": 63,
   "metadata": {},
   "outputs": [
    {
     "data": {
      "text/plain": [
       "array([[1., 2., 2., ..., 0., 0., 0.],\n",
       "       [2., 2., 2., ..., 0., 0., 0.],\n",
       "       [2., 2., 2., ..., 0., 0., 0.],\n",
       "       ...,\n",
       "       [0., 0., 0., ..., 2., 2., 2.],\n",
       "       [0., 0., 0., ..., 2., 2., 2.],\n",
       "       [0., 0., 0., ..., 2., 2., 1.]])"
      ]
     },
     "execution_count": 63,
     "metadata": {},
     "output_type": "execute_result"
    }
   ],
   "source": [
    "J_1 = ( C+ P.T@C@P +P ) + (C+ P.T@C@P +2*np.eye(Size*Size )-2*( + P))\n",
    "J_1"
   ]
  },
  {
   "cell_type": "code",
   "execution_count": 64,
   "metadata": {},
   "outputs": [],
   "source": [
    "I = np.ones(len(H_1))"
   ]
  },
  {
   "cell_type": "code",
   "execution_count": 65,
   "metadata": {},
   "outputs": [
    {
     "data": {
      "text/plain": [
       "array([10.5       , 10.61157178, 10.75541281,  8.14975982, 10.67833747,\n",
       "       10.40883922, 10.38842822, 10.5       , 10.64384104,  8.06623277,\n",
       "       10.55268026, 10.29726745, 10.26499819, 10.35741053, 10.5       ,\n",
       "        7.90352157, 10.40883922, 10.15342641, 12.85526535, 12.93326748,\n",
       "       13.10150359, 10.5       , 12.99541633, 12.75493   , 10.32116278,\n",
       "       10.44781999, 10.59316479,  7.97828744, 10.5       , 10.24358819,\n",
       "       10.59316479, 10.70023878, 10.84657359,  8.24457025, 10.75541281,\n",
       "       10.5       ])"
      ]
     },
     "execution_count": 65,
     "metadata": {},
     "output_type": "execute_result"
    }
   ],
   "source": [
    "H = H_1/2 + M1*(J_1.T+J_1)@I /4\n",
    "H"
   ]
  },
  {
   "cell_type": "code",
   "execution_count": 66,
   "metadata": {},
   "outputs": [],
   "source": [
    "J = -M1*J_1/2"
   ]
  },
  {
   "cell_type": "code",
   "execution_count": 67,
   "metadata": {},
   "outputs": [
    {
     "data": {
      "text/plain": [
       "array([[ 0., -1., -1., ..., -0., -0., -0.],\n",
       "       [-1.,  0., -1., ..., -0., -0., -0.],\n",
       "       [-1., -1.,  0., ..., -0., -0., -0.],\n",
       "       ...,\n",
       "       [-0., -0., -0., ...,  0., -1., -1.],\n",
       "       [-0., -0., -0., ..., -1.,  0., -1.],\n",
       "       [-0., -0., -0., ..., -1., -1.,  0.]])"
      ]
     },
     "execution_count": 67,
     "metadata": {},
     "output_type": "execute_result"
    }
   ],
   "source": [
    "# K = ((J+J.T)/2)\n",
    "K = J.copy()\n",
    "np.fill_diagonal(K,0)\n",
    "K"
   ]
  },
  {
   "cell_type": "code",
   "execution_count": 68,
   "metadata": {},
   "outputs": [],
   "source": [
    "J_sym = (J+J.T)/2"
   ]
  },
  {
   "cell_type": "code",
   "execution_count": 69,
   "metadata": {},
   "outputs": [],
   "source": [
    "import numpy as np "
   ]
  },
  {
   "cell_type": "code",
   "execution_count": 70,
   "metadata": {},
   "outputs": [
    {
     "ename": "ValueError",
     "evalue": "could not broadcast input array from shape (36,36) into shape (6,6)",
     "output_type": "error",
     "traceback": [
      "\u001b[1;31m---------------------------------------------------------------------------\u001b[0m",
      "\u001b[1;31mValueError\u001b[0m                                Traceback (most recent call last)",
      "Cell \u001b[1;32mIn[70], line 2\u001b[0m\n\u001b[0;32m      1\u001b[0m J_compact \u001b[38;5;241m=\u001b[39m np\u001b[38;5;241m.\u001b[39mzeros((Size\u001b[38;5;241m+\u001b[39m\u001b[38;5;241m1\u001b[39m,Size\u001b[38;5;241m+\u001b[39m\u001b[38;5;241m1\u001b[39m))\n\u001b[1;32m----> 2\u001b[0m \u001b[43mJ_compact\u001b[49m\u001b[43m[\u001b[49m\u001b[43m:\u001b[49m\u001b[43mSize\u001b[49m\u001b[43m,\u001b[49m\u001b[43m:\u001b[49m\u001b[43mSize\u001b[49m\u001b[43m]\u001b[49m \u001b[38;5;241m=\u001b[39m J_sym\n\u001b[0;32m      3\u001b[0m J_compact[:Size,Size] \u001b[38;5;241m=\u001b[39m H \n\u001b[0;32m      4\u001b[0m J_compact[Size,:Size] \u001b[38;5;241m=\u001b[39m H\n",
      "\u001b[1;31mValueError\u001b[0m: could not broadcast input array from shape (36,36) into shape (6,6)"
     ]
    }
   ],
   "source": [
    "J_compact = np.zeros((Size+1,Size+1))\n",
    "J_compact[:Size,:Size] = J_sym\n",
    "J_compact[:Size,Size] = H \n",
    "J_compact[Size,:Size] = H\n"
   ]
  },
  {
   "cell_type": "code",
   "execution_count": null,
   "metadata": {},
   "outputs": [],
   "source": [
    "from SBM import SBM\n",
    "from simulation_manager import SimulationManager\n",
    "import results_annalysis"
   ]
  },
  {
   "cell_type": "code",
   "execution_count": null,
   "metadata": {},
   "outputs": [
    {
     "data": {
      "text/plain": [
       "0.09523809523809523"
      ]
     },
     "execution_count": 350,
     "metadata": {},
     "output_type": "execute_result"
    }
   ],
   "source": [
    "eigs = np.linalg.eigvals(J)\n",
    "norm_eigs = np.abs(eigs)\n",
    "ksi = 1/(norm_eigs.max())\n",
    "ksi\n"
   ]
  },
  {
   "cell_type": "code",
   "execution_count": null,
   "metadata": {},
   "outputs": [],
   "source": [
    "p_first = 1-ksi*np.real(eigs.max())\n",
    "p_last = 1-ksi*np.real(eigs.min())"
   ]
  },
  {
   "cell_type": "code",
   "execution_count": null,
   "metadata": {},
   "outputs": [
    {
     "data": {
      "text/plain": [
       "(36,)"
      ]
     },
     "execution_count": 352,
     "metadata": {},
     "output_type": "execute_result"
    }
   ],
   "source": [
    "np.shape(H)"
   ]
  },
  {
   "cell_type": "code",
   "execution_count": null,
   "metadata": {},
   "outputs": [
    {
     "data": {
      "text/plain": [
       "(36, 36)"
      ]
     },
     "execution_count": 353,
     "metadata": {},
     "output_type": "execute_result"
    }
   ],
   "source": [
    "np.shape(J)"
   ]
  },
  {
   "cell_type": "code",
   "execution_count": null,
   "metadata": {},
   "outputs": [],
   "source": [
    "step_size = 0.01\n",
    "num_iterations= 2000\n",
    "num_simulations= 50\n",
    "lag = 0\n",
    "\n",
    "def pumping_rate(self, t):\n",
    "    # return t/10\n",
    "    if t<lag:\n",
    "        return 0\n",
    "    else:\n",
    "        return 1 * p_last * (t-lag)/(num_iterations-lag)\n"
   ]
  },
  {
   "cell_type": "code",
   "execution_count": null,
   "metadata": {},
   "outputs": [],
   "source": [
    "manager = SimulationManager(step_size=0.1, num_iterations=num_iterations, num_simulations=2, J=J, H=H, pumping_rate=pumping_rate, stopping_criterion=0.1, save_states_history=True, save_energies_history=True, n_threads=2, savetofile=False)"
   ]
  },
  {
   "cell_type": "code",
   "execution_count": null,
   "metadata": {},
   "outputs": [],
   "source": [
    "states, energies, last_states, last_TAC_states, last_sign_States, last_energies, last_TAC_energies, last_sign_energies, final_times, sign_times, TAC_times = manager.run_simulation()"
   ]
  },
  {
   "cell_type": "code",
   "execution_count": null,
   "metadata": {},
   "outputs": [],
   "source": [
    "# forces = -np.dot(J, positions.T).T * ksi + H\n"
   ]
  },
  {
   "cell_type": "code",
   "execution_count": null,
   "metadata": {},
   "outputs": [
    {
     "data": {
      "image/png": "[encoded data removed]",
      "text/plain": [
       "<Figure size 1400x600 with 2 Axes>"
      ]
     },
     "metadata": {},
     "output_type": "display_data"
    }
   ],
   "source": [
    "results_annalysis.complete_plot(states, energies, 0)"
   ]
  },
  {
   "cell_type": "code",
   "execution_count": null,
   "metadata": {},
   "outputs": [
    {
     "data": {
      "text/plain": [
       "array([-1., -1., -1., -1., -1., -1.,  1., -1., -1.,  1., -1.,  1., -1.,\n",
       "       -1., -1., -1., -1., -1.,  1., -1., -1.,  1., -1.,  1., -1., -1.,\n",
       "       -1.,  1., -1., -1., -1., -1., -1., -1., -1., -1.])"
      ]
     },
     "execution_count": 359,
     "metadata": {},
     "output_type": "execute_result"
    }
   ],
   "source": [
    "solution = np.sign(last_states[0, :, 0])\n",
    "solution"
   ]
  },
  {
   "cell_type": "markdown",
   "metadata": {},
   "source": [
    "# Vérification des contraintes "
   ]
  },
  {
   "cell_type": "code",
   "execution_count": null,
   "metadata": {},
   "outputs": [],
   "source": [
    "# solution.T@(C+P.T@C@P+2*np.eye(Size*Size)-2*(C@P + P))@solution"
   ]
  },
  {
   "cell_type": "code",
   "execution_count": null,
   "metadata": {},
   "outputs": [],
   "source": [
    "# solution.T @( C+ P.T@C@P +P )@solution"
   ]
  },
  {
   "cell_type": "code",
   "execution_count": null,
   "metadata": {},
   "outputs": [
    {
     "data": {
      "text/plain": [
       "array([-0.        ,  0.22314355,  0.51082562, -4.70048037,  0.35667494,\n",
       "       -0.18232156, -0.22314355, -0.        ,  0.28768207, -4.86753445,\n",
       "        0.10536052, -0.40546511, -0.47000363, -0.28517894, -0.        ,\n",
       "       -5.19295685, -0.18232156, -0.69314718,  4.7105307 ,  4.86653495,\n",
       "        5.20300719, -0.        ,  4.99083267,  4.50986001, -0.35767444,\n",
       "       -0.10436002,  0.18632958, -5.04342512, -0.        , -0.51282363,\n",
       "        0.18632958,  0.40047757,  0.69314718, -4.51085951,  0.51082562,\n",
       "       -0.        ])"
      ]
     },
     "execution_count": 362,
     "metadata": {},
     "output_type": "execute_result"
    }
   ],
   "source": [
    "H_1"
   ]
  },
  {
   "cell_type": "code",
   "execution_count": null,
   "metadata": {},
   "outputs": [
    {
     "data": {
      "text/plain": [
       "-1.3191775189675194"
      ]
     },
     "execution_count": 363,
     "metadata": {},
     "output_type": "execute_result"
    }
   ],
   "source": [
    "Gain =(H_1 @ (solution + I))/2\n",
    "Gain"
   ]
  },
  {
   "cell_type": "code",
   "execution_count": null,
   "metadata": {},
   "outputs": [
    {
     "data": {
      "text/plain": [
       "array([[0., 0., 0., 0., 0., 0.],\n",
       "       [1., 0., 0., 1., 0., 1.],\n",
       "       [0., 0., 0., 0., 0., 0.],\n",
       "       [1., 0., 0., 1., 0., 1.],\n",
       "       [0., 0., 0., 1., 0., 0.],\n",
       "       [0., 0., 0., 0., 0., 0.]])"
      ]
     },
     "execution_count": 364,
     "metadata": {},
     "output_type": "execute_result"
    }
   ],
   "source": [
    "SS =(solution+I).reshape((6,6))/2\n",
    "SS"
   ]
  },
  {
   "cell_type": "code",
   "execution_count": null,
   "metadata": {},
   "outputs": [],
   "source": [
    "import numpy as np\n",
    "\n",
    "# This fucntion takes the solution X (decision VECTOR) and the exchange rate matrix. It raises an error if the solution is invalid\n",
    "def check_valid_solution(X, exchange_rate_matrix):\n",
    "    # number of nodes\n",
    "    V = len(exchange_rate_matrix)\n",
    "    # number of edges (pairs tradable)\n",
    "    E = len(exchange_rate_matrix[~np.isnan(exchange_rate_matrix)])\n",
    "\n",
    "    # First check: the right size\n",
    "    if len(X) != V**2:\n",
    "        raise ValueError(f\"Decison vector does not have the right shape: lengh of {len(X)} and should be {V**2}\")\n",
    "\n",
    "    # Match the shape of X with the exchange rate matrix\n",
    "    X = X.reshape(V, V)\n",
    "\n",
    "    # Second check: first condition\n",
    "    for i in range(V):\n",
    "        sum1, sum2 = 0, 0\n",
    "        for j in range(V):\n",
    "            if X[i,j] != 0:\n",
    "                sum1 += X[i,j]\n",
    "            if X[j,i] != 0:\n",
    "                sum2 += X[j,i]\n",
    "    \n",
    "        if sum1 != sum2:\n",
    "            raise ValueError(f\"The trade sequence is not a circle. Increase coefficient lambda1 and retry\")\n",
    "    \n",
    "    # Third check: second condition\n",
    "    for i in range(V):\n",
    "        sum = 0\n",
    "        for j in range(V):\n",
    "            if X[i, j] != 0:\n",
    "                sum += X[i,j]\n",
    "        if sum>1:\n",
    "            raise ValueError(f\"Traded the same asset twice. Increase coefficient lambda2 and retry\")\n",
    "    \n",
    "    print(\"Solution is valid!\")\n",
    "    \n",
    "    return\n",
    "\n",
    "# This function takes the decision VECTOR and log exchange rates matrix and outputs the proffit the arbitrage would have made\n",
    "def compute_theorical_proffit(X, log_echange_rate_matrix):\n",
    "    n = len(log_echange_rate_matrix)\n",
    "    X = X.reshape(n, n)\n",
    "    \n",
    "    indexes = np.where(X==1)\n",
    "\n",
    "    # compute the sum of the logs of the exchange rates\n",
    "    log_rates_sum = np.sum(log_echange_rate_matrix[X==1])\n",
    "\n",
    "    return np.exp(log_rates_sum)"
   ]
  },
  {
   "cell_type": "code",
   "execution_count": null,
   "metadata": {},
   "outputs": [],
   "source": [
    "import numpy as np\n",
    "# Il ya quelque chose à vérifier !! on veut touver tous les cycles courtes ou longue \n",
    "def find_cycle_node(neighbors, node, visited):\n",
    "    if node in visited:\n",
    "        return visited\n",
    "\n",
    "    visited.append(node)\n",
    "\n",
    "    if node in neighbors:\n",
    "        for neighbor in neighbors[node]:\n",
    "            find_cycle_node(neighbors, neighbor, visited)\n",
    "\n",
    "def split_cycles(solution):\n",
    "    # Extract the chosen edges by the algorithm\n",
    "    Chosen_edges = np.array([(i, j) for i in range(len(SS)) for j in range(len(SS)) if SS[i, j] == 1 and i != j])\n",
    "    # Create a graph that corresponds to the edges chosen\n",
    "\n",
    "    neighbors = {}\n",
    "    for edge in Chosen_edges:\n",
    "        if edge[0] not in neighbors:\n",
    "            neighbors[edge[0]] = []\n",
    "        neighbors[edge[0]].append(edge[1])\n",
    "\n",
    "    Cycles = []\n",
    "\n",
    "    for node in neighbors:\n",
    "        visited = []\n",
    "        find_cycle_node(neighbors, node, visited)\n",
    "        if visited != [] and len(visited) > 1:\n",
    "            Cycles.append(visited)\n",
    "\n",
    "    return Cycles\n"
   ]
  },
  {
   "cell_type": "code",
   "execution_count": null,
   "metadata": {},
   "outputs": [
    {
     "data": {
      "text/plain": [
       "[[1, 0, 3, 5], [3, 0, 5], [4, 3, 0, 5]]"
      ]
     },
     "execution_count": 367,
     "metadata": {},
     "output_type": "execute_result"
    }
   ],
   "source": [
    "split_cycles(SS)"
   ]
  },
  {
   "cell_type": "code",
   "execution_count": null,
   "metadata": {},
   "outputs": [],
   "source": [
    "def find_cycles(edges):\n",
    "    # Créer un dictionnaire pour stocker les voisins de chaque nœud\n",
    "    neighbors = {}\n",
    "    for edge in edges:\n",
    "        if edge[0] not in neighbors:\n",
    "            neighbors[edge[0]] = []\n",
    "        neighbors[edge[0]].append(edge[1])\n",
    "\n",
    "    # Fonction récursive pour trouver les cycles à partir d'un nœud donné\n",
    "    def find_cycles_from_node(node, path):\n",
    "        cycles = []\n",
    "        if node in path:\n",
    "            start_index = path.index(node)\n",
    "            cycle = path[start_index:]\n",
    "            if len(cycle) > 1:\n",
    "                cycles.append(cycle)\n",
    "        else:\n",
    "            path.append(node)\n",
    "            if node in neighbors:\n",
    "                for neighbor in neighbors[node]:\n",
    "                    cycles.extend(find_cycles_from_node(neighbor, path.copy()))\n",
    "            path.pop()\n",
    "        return cycles\n",
    "\n",
    "    # Rechercher des cycles à partir de chaque nœud\n",
    "    all_cycles = []\n",
    "    for node in neighbors.keys():\n",
    "        cycles = find_cycles_from_node(node, [])\n",
    "        all_cycles.extend(cycles)\n",
    "\n",
    "    return all_cycles\n",
    "\n",
    "# Exemple d'utilisation avec votre tableau\n",
    "# edges = [(0, 5), (1, 0), (1, 1), (1, 2), (1, 3), (1, 4), (1, 5), (2, 0), (2, 1), (2, 2), (2, 3), (2, 4), (2, 5), (3, 0), (3, 1), (3, 2), (3, 3), (3, 4), (3, 5)]\n",
    "# cycles = find_cycles(edges)\n",
    "# print(\"Cycles trouvés:\")\n",
    "# for cycle in cycles:\n",
    "#     print(cycle)\n"
   ]
  },
  {
   "cell_type": "code",
   "execution_count": null,
   "metadata": {},
   "outputs": [],
   "source": []
  },
  {
   "cell_type": "code",
   "execution_count": null,
   "metadata": {},
   "outputs": [
    {
     "data": {
      "text/plain": [
       "[(1, 0), (1, 3), (1, 5), (3, 0), (3, 3), (3, 5), (4, 3)]"
      ]
     },
     "execution_count": 369,
     "metadata": {},
     "output_type": "execute_result"
    }
   ],
   "source": [
    "Cycle_optimal_sb = [(i,j) for i in range(len(SS)) for j in range(len(SS)) if SS[i,j]==1]\n",
    "Cycle_optimal_sb"
   ]
  },
  {
   "cell_type": "code",
   "execution_count": null,
   "metadata": {},
   "outputs": [
    {
     "data": {
      "text/plain": [
       "[]"
      ]
     },
     "execution_count": 370,
     "metadata": {},
     "output_type": "execute_result"
    }
   ],
   "source": [
    "find_cycles(Cycle_optimal_sb)\n"
   ]
  }
 ],
 "metadata": {
  "kernelspec": {
   "display_name": "Python 3",
   "language": "python",
   "name": "python3"
  },
  "language_info": {
   "codemirror_mode": {
    "name": "ipython",
    "version": 3
   },
   "file_extension": ".py",
   "mimetype": "text/x-python",
   "name": "python",
   "nbconvert_exporter": "python",
   "pygments_lexer": "ipython3",
   "version": "3.10.11"
  }
 },
 "nbformat": 4,
 "nbformat_minor": 2
}
