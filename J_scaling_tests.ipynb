{
 "cells": [
  {
   "cell_type": "code",
   "execution_count": 1,
   "metadata": {},
   "outputs": [],
   "source": [
    "import numpy as np\n",
    "import computing, results_annalysis\n",
    "import instance_genrerantion\n",
    "import matplotlib.pyplot as plt"
   ]
  },
  {
   "attachments": {},
   "cell_type": "markdown",
   "metadata": {},
   "source": [
    "## Création de l'instance"
   ]
  },
  {
   "attachments": {},
   "cell_type": "markdown",
   "metadata": {},
   "source": [
    "#### Génération d'une instance par réduction"
   ]
  },
  {
   "cell_type": "code",
   "execution_count": 2,
   "metadata": {},
   "outputs": [],
   "source": [
    "from problem_reductions.npp_to_ising import *\n",
    "# NPP instance\n",
    "weights = np.random.uniform(0, 100, size=100)\n",
    "\n",
    "# Ising instance\n",
    "J, H = npp_to_ising(weights=weights)"
   ]
  },
  {
   "attachments": {},
   "cell_type": "markdown",
   "metadata": {},
   "source": [
    "#### Ou génération d'un instance aléatoire"
   ]
  },
  {
   "cell_type": "code",
   "execution_count": 3,
   "metadata": {},
   "outputs": [],
   "source": [
    "size=200\n",
    "coefficients = np.random.normal(0, 1, size=(size, size))\n",
    "# coefficients = np.random.uniform(0, 1, size=(size, size))\n",
    "\n",
    "# Set diagonal elements to zero\n",
    "np.fill_diagonal(coefficients, 0)\n",
    "\n",
    "# Generate symmetric matrix\n",
    "J = (coefficients + coefficients.T) / 2\n",
    "H= np.random.normal(0, 1, size=(size, 1)).T\n"
   ]
  },
  {
   "cell_type": "markdown",
   "metadata": {},
   "source": [
    "moyenne sur la matrice"
   ]
  },
  {
   "cell_type": "code",
   "execution_count": 4,
   "metadata": {},
   "outputs": [],
   "source": [
    "avg=np.average(np.abs(J))"
   ]
  },
  {
   "attachments": {},
   "cell_type": "markdown",
   "metadata": {},
   "source": [
    "## Simulation avec des paramètres choisis"
   ]
  },
  {
   "cell_type": "code",
   "execution_count": 5,
   "metadata": {},
   "outputs": [
    {
     "data": {
      "image/png": "[encoded data removed]",
      "text/plain": [
       "<Figure size 432x288 with 1 Axes>"
      ]
     },
     "metadata": {
      "needs_background": "light"
     },
     "output_type": "display_data"
    },
    {
     "data": {
      "text/plain": [
       "(-1817.3540870030085,\n",
       " array([ 1,  1,  1,  1, -1,  1, -1,  1,  1, -1, -1,  1,  1, -1,  1,  1,  1,\n",
       "         1,  1,  1, -1, -1,  1,  1, -1,  1,  1, -1, -1, -1,  1, -1, -1, -1,\n",
       "         1, -1, -1, -1, -1, -1, -1, -1,  1, -1, -1, -1,  1,  1, -1, -1, -1,\n",
       "         1, -1,  1,  1,  1,  1, -1, -1, -1,  1,  1, -1, -1, -1, -1, -1,  1,\n",
       "        -1, -1, -1, -1, -1,  1, -1,  1, -1,  1, -1, -1, -1,  1,  1,  1, -1,\n",
       "         1, -1, -1,  1, -1, -1,  1,  1, -1,  1,  1, -1,  1, -1, -1,  1, -1,\n",
       "         1,  1,  1, -1,  1,  1, -1, -1,  1, -1, -1,  1,  1,  1, -1,  1,  1,\n",
       "         1,  1, -1,  1, -1,  1, -1, -1, -1,  1,  1,  1, -1, -1, -1, -1,  1,\n",
       "        -1,  1,  1, -1,  1,  1, -1,  1,  1, -1, -1,  1, -1, -1, -1,  1,  1,\n",
       "        -1, -1,  1, -1,  1, -1,  1,  1,  1,  1,  1, -1, -1, -1, -1,  1,  1,\n",
       "        -1,  1,  1,  1, -1,  1,  1,  1,  1,  1,  1,  1,  1, -1, -1,  1, -1,\n",
       "        -1,  1, -1, -1, -1, -1,  1, -1, -1,  1,  1, -1, -1]),\n",
       " 35)"
      ]
     },
     "execution_count": 5,
     "metadata": {},
     "output_type": "execute_result"
    }
   ],
   "source": [
    "n_itterations=2000\n",
    "\n",
    "def a(self, t):\n",
    "    a0=0\n",
    "    return 0\n",
    "    if t<70:\n",
    "        return -0.1\n",
    "    else:\n",
    "        return 0.2\n",
    "\n",
    "\n",
    "def temperature(self, t):\n",
    "    tau = n_itterations/1\n",
    "    # temp = 10*(1-np.exp(-1/tau*(t-1)))\n",
    "    temp = 0.01*np.log(5*t)\n",
    "    return temp\n",
    "    return 0\n",
    "\n",
    "def step(self, t):\n",
    "    return np.exp(-t)\n",
    "\n",
    "states, energies, path = computing.compute_single_instance(instance_size=size, step=step, n_itterations=n_itterations, n_cond_init=100, J=J, H=H, savetofile=False)\n",
    "results_annalysis.plot_energies_evolution(energies[:, :])\n",
    "results_annalysis.extract_full_solution(states, energies)"
   ]
  },
  {
   "cell_type": "code",
   "execution_count": 6,
   "metadata": {},
   "outputs": [
    {
     "data": {
      "text/plain": [
       "(100, 200, 2000, 2)"
      ]
     },
     "execution_count": 6,
     "metadata": {},
     "output_type": "execute_result"
    }
   ],
   "source": [
    "states.shape"
   ]
  },
  {
   "cell_type": "code",
   "execution_count": null,
   "metadata": {},
   "outputs": [],
   "source": []
  },
  {
   "cell_type": "code",
   "execution_count": 7,
   "metadata": {},
   "outputs": [
    {
     "data": {
      "image/png": "[encoded data removed]",
      "text/plain": [
       "<Figure size 432x288 with 1 Axes>"
      ]
     },
     "metadata": {
      "needs_background": "light"
     },
     "output_type": "display_data"
    }
   ],
   "source": [
    "speeds = states[0, :, :, 1] # vitesses du systeme 1\n",
    "pos = states[0, :, :, 0] # vitesses du systeme 1\n",
    "\n",
    "n_part, n_iterr = pos.shape\n",
    "\n",
    "for i in range(n_part):\n",
    "    plt.plot(pos[i])\n",
    "\n",
    "n_part, n_iterr = speeds.shape\n",
    "\n",
    "for i in range(n_part):\n",
    "    plt.plot(speeds[i])"
   ]
  },
  {
   "cell_type": "code",
   "execution_count": 8,
   "metadata": {},
   "outputs": [
    {
     "data": {
      "image/png": "[encoded data removed]",
      "text/plain": [
       "<Figure size 432x288 with 1 Axes>"
      ]
     },
     "metadata": {
      "needs_background": "light"
     },
     "output_type": "display_data"
    }
   ],
   "source": [
    "n_part, n_iterr = speeds.shape\n",
    "\n",
    "for i in range(n_part):\n",
    "    plt.plot(speeds[i])"
   ]
  },
  {
   "cell_type": "code",
   "execution_count": null,
   "metadata": {},
   "outputs": [],
   "source": []
  },
  {
   "cell_type": "code",
   "execution_count": null,
   "metadata": {},
   "outputs": [],
   "source": []
  }
 ],
 "metadata": {
  "kernelspec": {
   "display_name": "base",
   "language": "python",
   "name": "python3"
  },
  "language_info": {
   "codemirror_mode": {
    "name": "ipython",
    "version": 3
   },
   "file_extension": ".py",
   "mimetype": "text/x-python",
   "name": "python",
   "nbconvert_exporter": "python",
   "pygments_lexer": "ipython3",
   "version": "3.9.7"
  },
  "orig_nbformat": 4
 },
 "nbformat": 4,
 "nbformat_minor": 2
}
