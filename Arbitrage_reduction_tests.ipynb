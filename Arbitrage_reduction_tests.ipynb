{
 "cells": [
  {
   "cell_type": "markdown",
   "metadata": {},
   "source": [
    "# **Imports**"
   ]
  },
  {
   "cell_type": "code",
   "execution_count": 38,
   "metadata": {},
   "outputs": [],
   "source": [
    "import numpy as np \n",
    "from SBM import SBM\n",
    "from simulation_manager import SimulationManager\n",
    "import results_annalysis"
   ]
  },
  {
   "cell_type": "markdown",
   "metadata": {},
   "source": [
    "# **Arbitrage reduction**"
   ]
  },
  {
   "cell_type": "markdown",
   "metadata": {},
   "source": [
    "Defining the reduction "
   ]
  },
  {
   "cell_type": "code",
   "execution_count": 39,
   "metadata": {},
   "outputs": [],
   "source": [
    "def permutation_matrix(Size):\n",
    "    M =np.random.permutation(Size*Size).reshape((Size,Size))\n",
    "    X = np.array([M[i,j] for i in range(Size) for j in range(Size) ])\n",
    "    f_X = np.array([M[i,j] for j in range(Size) for i in range(Size) ])\n",
    "    n = len(X)\n",
    "    P = np.zeros((n, n), dtype=int)  \n",
    "    for i in range(n):\n",
    "        index = np.where(f_X==X[i])[0][0]\n",
    "        P[index][i] = 1\n",
    "\n",
    "    return P"
   ]
  },
  {
   "cell_type": "code",
   "execution_count": 40,
   "metadata": {},
   "outputs": [],
   "source": [
    "def rotation_lignes(Matrix,n): \n",
    "    \n",
    "    for _ in range(n):\n",
    "        Ligne_0 = Matrix[0,:].copy()\n",
    "        for i in range(len(Matrix)- 1): \n",
    "            Matrix[i,:] = Matrix[i+1,:]\n",
    "\n",
    "        Matrix[-1,:] = Ligne_0\n",
    "\n",
    "    return Matrix\n",
    "\n",
    "\n",
    "def C_rotation(Size): \n",
    "    \n",
    "    c_n = np.zeros((Size,Size))\n",
    "    for i in range(Size-1): \n",
    "        c_n+=rotation_lignes(np.eye(Size),i+1)\n",
    "\n",
    "    c = np.kron(np.eye(Size), c_n)\n",
    "\n",
    "    return c"
   ]
  },
  {
   "cell_type": "code",
   "execution_count": 41,
   "metadata": {},
   "outputs": [],
   "source": [
    "def arbitrage_reduction(Taux,M1 =1,compact=False):\n",
    "    \"\"\"\n",
    "    Input: Exchange rate matrice C\n",
    "    output: Symmetrical part of J and H  if compact is false \n",
    "            else Compact with H integrated and H \n",
    "    \"\"\"\n",
    "    log_vectorized = np.vectorize(np.log)\n",
    "    log_Taux = log_vectorized(Taux)\n",
    "    \n",
    "    Size = len(log_Taux)\n",
    "    # Defining the reduction matrices \n",
    "    C = C_rotation(Size)\n",
    "    P = permutation_matrix(Size)\n",
    "\n",
    "    # Creating H_1\n",
    "\n",
    "    H_1= -np.array([log_Taux[i,j] for i in range(len(log_Taux)) for j in range(len(log_Taux[0]))])\n",
    "    I = np.ones(len(H_1))\n",
    "    \n",
    "    # Creating J_1\n",
    "    J_1 = 2*C + 2* P.T@C@P+ 2*np.eye(len(C)) - P - C@P\n",
    "\n",
    "    H = H_1/2 + M1*(J_1.T+J_1)@I /4\n",
    "    J = -M1*J_1/2\n",
    "\n",
    "    # Extract the symmetrical part of J \n",
    "    J_sym =(J+J.T)/2 \n",
    "    np.fill_diagonal(J_sym,0)\n",
    "\n",
    "    if not compact: \n",
    " # Needs to be verified(Is it necessary?)\n",
    "        return  J_sym,H\n",
    "    else: \n",
    "        # In here we will follow the methods used in paper 2023\n",
    "        J_compact = np.zeros((len(J)+1,len(J)+1))\n",
    "        J_compact[:len(J),:len(J)] = J_sym\n",
    "        J_compact[:len(J),len(J)] = H \n",
    "        J_compact[len(J),:len(J)] = H\n",
    "        H_compact = np.zeros(len(H)+1)\n",
    "        # H_compact[:len(H)] = H\n",
    "\n",
    "        return J_compact,H_compact"
   ]
  },
  {
   "cell_type": "markdown",
   "metadata": {},
   "source": [
    "# **Simulated bifurcation and result analysis**"
   ]
  },
  {
   "cell_type": "markdown",
   "metadata": {},
   "source": [
    "We first define the pumping function "
   ]
  },
  {
   "cell_type": "code",
   "execution_count": 42,
   "metadata": {},
   "outputs": [],
   "source": [
    "# Defining the rate matrix \n",
    "\n",
    "# First test IA generated \n",
    "taux_de_change = [\n",
    "    [1.0, 0.8, 0.6, 110, 0.7, 1.2],  # USD\n",
    "    [1.25, 1.0, 0.75, 130, 0.9, 1.5], # EUR\n",
    "    [1.6, 1.33, 1.0, 180, 1.2, 2.0],  # GBP\n",
    "    [0.009, 0.0077, 0.0055, 1.0, 0.0068, 0.011], # JPY\n",
    "    [1.43, 1.11, 0.83, 155, 1.0, 1.67], # AUD\n",
    "    [0.83, 0.67, 0.5, 91, 0.6, 1.0] ]\n",
    "\n",
    "# taux_de_change  = np.array([\n",
    "#     [1, 0.8, 1.5],\n",
    "#     [1.25, 1, 0.6],\n",
    "#     [0.67, 1.67, 1]\n",
    "# ])"
   ]
  },
  {
   "cell_type": "markdown",
   "metadata": {},
   "source": [
    "# **A real matrix**"
   ]
  },
  {
   "cell_type": "code",
   "execution_count": 43,
   "metadata": {},
   "outputs": [
    {
     "name": "stdout",
     "output_type": "stream",
     "text": [
      "NetworkX Graph: Graph with 2056 nodes and 2410 edges\n"
     ]
    }
   ],
   "source": [
    "import joblib\n",
    "import networkx as nx\n",
    "import scipy.sparse as sp\n",
    "\n",
    "# Chemins vers les fichiers\n",
    "networkx_file = './G_network.jbl'\n",
    "\n",
    "# Charger l'objet NetworkX\n",
    "G = joblib.load(networkx_file)\n",
    "print(f\"NetworkX Graph: {G}\")\n",
    "\n",
    "# Convertir le graphe en matrice sparse\n",
    "sparse_matrix = nx.adjacency_matrix(G)\n",
    "# print(f\"Sparse Matrix: {sparse_matrix}\")\n",
    "\n",
    "# Convertir la matrice sparse en un tableau NumPy\n",
    "exchange = sparse_matrix.toarray()"
   ]
  },
  {
   "cell_type": "code",
   "execution_count": 44,
   "metadata": {},
   "outputs": [],
   "source": [
    "import pandas as pd "
   ]
  },
  {
   "cell_type": "code",
   "execution_count": 45,
   "metadata": {},
   "outputs": [],
   "source": [
    "jbl_matrix = pd.read_pickle('crypto_jbl_matrix_large.jbl')"
   ]
  },
  {
   "cell_type": "code",
   "execution_count": 46,
   "metadata": {},
   "outputs": [],
   "source": [
    "buy_prices = jbl_matrix['buy_prices']\n",
    "sell_prices = jbl_matrix['sell_prices']"
   ]
  },
  {
   "cell_type": "code",
   "execution_count": 47,
   "metadata": {},
   "outputs": [],
   "source": [
    "exchange=(sell_prices - buy_prices).values"
   ]
  },
  {
   "cell_type": "code",
   "execution_count": 48,
   "metadata": {},
   "outputs": [],
   "source": [
    "# Reduction none compact\n",
    "J,H  = arbitrage_reduction(exchange)"
   ]
  },
  {
   "cell_type": "code",
   "execution_count": 49,
   "metadata": {},
   "outputs": [],
   "source": [
    "#Reduction compact\n",
    "J_compact ,H_compcat  = arbitrage_reduction(taux_de_change,compact = False)"
   ]
  },
  {
   "cell_type": "markdown",
   "metadata": {},
   "source": [
    "We define the SB parameters"
   ]
  },
  {
   "cell_type": "code",
   "execution_count": 50,
   "metadata": {},
   "outputs": [],
   "source": [
    "eigs = np.linalg.eigvals(J)\n",
    "norm_eigs = np.abs(eigs)\n",
    "ksi = 1/(norm_eigs.max())\n",
    "p_first = 1-ksi*np.real(eigs.max())\n",
    "p_last = 1-ksi*np.real(eigs.min())\n",
    "\n",
    "step_size = 0.01\n",
    "num_iterations= 2000\n",
    "num_simulations= 50\n",
    "lag = 0 # Remember what the lag is for \n",
    "\n",
    "def pumping_rate(self, t):\n",
    "    # return t/100\n",
    "    if t<lag:\n",
    "        return 0\n",
    "    else:\n",
    "        return 1 * p_last * (t-lag)/(num_iterations-lag)"
   ]
  },
  {
   "cell_type": "code",
   "execution_count": 51,
   "metadata": {},
   "outputs": [],
   "source": [
    "manager = SimulationManager(step_size=0.1, num_iterations=num_iterations, num_simulations=2, J=J, H=H, pumping_rate=pumping_rate, stopping_criterion=0.1, save_states_history=True, save_energies_history=True, n_threads=2, savetofile=False)"
   ]
  },
  {
   "cell_type": "code",
   "execution_count": 52,
   "metadata": {},
   "outputs": [
    {
     "name": "stderr",
     "output_type": "stream",
     "text": [
      "c:\\Users\\nesri\\SB_Algorithm_applications\\SBM.py:238: ComplexWarning: Casting complex values to real discards the imaginary part\n",
      "  self.current_state[:, :, 0], self.current_state[:, :, 1] = self.simplectic_update(positions, speeds, t)\n"
     ]
    }
   ],
   "source": [
    "states, energies, last_states, last_TAC_states, last_sign_States, last_energies, last_TAC_energies, last_sign_energies, final_times, sign_times, TAC_times = manager.run_simulation()"
   ]
  },
  {
   "cell_type": "code",
   "execution_count": 53,
   "metadata": {},
   "outputs": [
    {
     "data": {
      "image/png": "[encoded data removed]",
      "text/plain": [
       "<Figure size 1400x600 with 2 Axes>"
      ]
     },
     "metadata": {},
     "output_type": "display_data"
    }
   ],
   "source": [
    "results_annalysis.complete_plot(states, energies, 0)"
   ]
  },
  {
   "cell_type": "code",
   "execution_count": 54,
   "metadata": {},
   "outputs": [],
   "source": [
    "solution = np.sign(last_states[0, :, 0])"
   ]
  },
  {
   "cell_type": "code",
   "execution_count": 55,
   "metadata": {},
   "outputs": [
    {
     "data": {
      "text/plain": [
       "array([1., 1., 1., 1., 1., 1., 1., 1., 1., 1., 1., 1., 1., 1., 1., 1., 1.,\n",
       "       1., 1., 1., 1., 1., 1., 1., 1., 1., 1., 1., 1., 1., 1., 1., 1., 1.,\n",
       "       1., 1., 1., 1., 1., 1., 1., 1., 1., 1., 1., 1., 1., 1., 1., 1., 1.,\n",
       "       1., 1., 1., 1., 1., 1., 1., 1., 1., 1., 1., 1., 1., 1., 1., 1., 1.,\n",
       "       1., 1., 1., 1., 1., 1., 1., 1., 1., 1., 1., 1., 1., 1., 1., 1., 1.,\n",
       "       1., 1., 1., 1., 1., 1., 1., 1., 1., 1., 1., 1., 1., 1., 1.])"
      ]
     },
     "execution_count": 55,
     "metadata": {},
     "output_type": "execute_result"
    }
   ],
   "source": [
    "solution"
   ]
  }
 ],
 "metadata": {
  "kernelspec": {
   "display_name": "Python 3",
   "language": "python",
   "name": "python3"
  },
  "language_info": {
   "codemirror_mode": {
    "name": "ipython",
    "version": 3
   },
   "file_extension": ".py",
   "mimetype": "text/x-python",
   "name": "python",
   "nbconvert_exporter": "python",
   "pygments_lexer": "ipython3",
   "version": "3.11.0"
  }
 },
 "nbformat": 4,
 "nbformat_minor": 2
}
