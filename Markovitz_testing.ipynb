{
 "cells": [
  {
   "cell_type": "markdown",
   "metadata": {},
   "source": [
    "## **Imports** "
   ]
  },
  {
   "cell_type": "code",
   "execution_count": 35,
   "metadata": {},
   "outputs": [],
   "source": [
    "import numpy as np \n",
    "import Markovitz_reduction \n",
    "import results_annalysis"
   ]
  },
  {
   "cell_type": "markdown",
   "metadata": {},
   "source": [
    "## **Markovitz energie** \n",
    "\n",
    "We will test with 3 assets to verify the reduction "
   ]
  },
  {
   "cell_type": "markdown",
   "metadata": {},
   "source": [
    "Defining the expected return vector and the covaraiance matrix (only an example )"
   ]
  },
  {
   "cell_type": "code",
   "execution_count": 26,
   "metadata": {},
   "outputs": [],
   "source": [
    "\n",
    "\n",
    "# Expected returns\n",
    "mu_A = 0.08\n",
    "mu_B = 0.12\n",
    "mu_C = 0.10\n",
    "# Covariances\n",
    "sigma_AA = 0.0004;sigma_AB = 0.0003;sigma_AC = 0.0002;sigma_BA = 0.0003;sigma_BB = 0.0005\n",
    "sigma_BC = 0.0004;sigma_CA = 0.0002;sigma_CB = 0.0004;sigma_CC = 0.0006\n",
    "# Expected return vector\n",
    "expected_return_vector = np.array([mu_A, mu_B, mu_C])\n",
    "Mu = expected_return_vector\n",
    "\n",
    "# Covariance matrix\n",
    "covariance_matrix = np.array([[sigma_AA, sigma_AB, sigma_AC],\n",
    "                              [sigma_BA, sigma_BB, sigma_BC],\n",
    "                              [sigma_CA, sigma_CB, sigma_CC]])\n",
    "V = covariance_matrix\n",
    "\n"
   ]
  },
  {
   "cell_type": "markdown",
   "metadata": {},
   "source": [
    "Defining the optimizing parameters"
   ]
  },
  {
   "cell_type": "code",
   "execution_count": 27,
   "metadata": {},
   "outputs": [],
   "source": [
    "Lamda1 = 1\n",
    "Lamda2 = 0.5\n",
    "fraction = 6\n",
    "step = 0.01\n",
    "iteration = 1000\n",
    "n_cond_init = 50\n",
    "temperature_fluctuation= 0.01\n",
    "def a(self, t):\n",
    "    a0=0\n",
    "    return 0\n",
    "    if t<70:\n",
    "        return 0.1*t\n",
    "    else:\n",
    "        return 7"
   ]
  },
  {
   "cell_type": "code",
   "execution_count": 39,
   "metadata": {},
   "outputs": [
    {
     "ename": "AttributeError",
     "evalue": "'Markovitz' object has no attribute 'states'",
     "output_type": "error",
     "traceback": [
      "\u001b[1;31m---------------------------------------------------------------------------\u001b[0m",
      "\u001b[1;31mAttributeError\u001b[0m                            Traceback (most recent call last)",
      "\u001b[1;32mc:\\bifurcation-simule\\Markovitz_testing.ipynb Cell 8\u001b[0m line \u001b[0;36m3\n\u001b[0;32m      <a href='vscode-notebook-cell:/c%3A/bifurcation-simule/Markovitz_testing.ipynb#X16sZmlsZQ%3D%3D?line=0'>1</a>\u001b[0m \u001b[39mimport\u001b[39;00m \u001b[39mMarkovitz_reduction\u001b[39;00m\n\u001b[0;32m      <a href='vscode-notebook-cell:/c%3A/bifurcation-simule/Markovitz_testing.ipynb#X16sZmlsZQ%3D%3D?line=1'>2</a>\u001b[0m markovitz \u001b[39m=\u001b[39m Markovitz_reduction\u001b[39m.\u001b[39mMarkovitz(fraction,V, Mu, Lamda1, Lamda2, step, iteration, n_cond_init,temperature_fluctuation,a)\n\u001b[1;32m----> <a href='vscode-notebook-cell:/c%3A/bifurcation-simule/Markovitz_testing.ipynb#X16sZmlsZQ%3D%3D?line=2'>3</a>\u001b[0m Weights \u001b[39m=\u001b[39m markovitz\u001b[39m.\u001b[39;49mIsing_to_Potfolio()\n",
      "File \u001b[1;32mc:\\bifurcation-simule\\Markovitz_reduction.py:73\u001b[0m, in \u001b[0;36mMarkovitz.Ising_to_Potfolio\u001b[1;34m(self)\u001b[0m\n\u001b[0;32m     71\u001b[0m fraction \u001b[39m=\u001b[39m \u001b[39mself\u001b[39m\u001b[39m.\u001b[39mfraction\n\u001b[0;32m     72\u001b[0m n_asset \u001b[39m=\u001b[39m \u001b[39mself\u001b[39m\u001b[39m.\u001b[39mn_asset\n\u001b[1;32m---> 73\u001b[0m states \u001b[39m=\u001b[39m \u001b[39mself\u001b[39;49m\u001b[39m.\u001b[39;49mstates \n\u001b[0;32m     74\u001b[0m Choices \u001b[39m=\u001b[39m (states\u001b[39m+\u001b[39m\u001b[39m1\u001b[39m)\u001b[39m/\u001b[39m\u001b[39m2\u001b[39m\n\u001b[0;32m     75\u001b[0m Weights \u001b[39m=\u001b[39m np\u001b[39m.\u001b[39mdot(P(fraction,n_asset),Choices)\n",
      "\u001b[1;31mAttributeError\u001b[0m: 'Markovitz' object has no attribute 'states'"
     ]
    }
   ],
   "source": [
    "import Markovitz_reduction\n",
    "markovitz = Markovitz_reduction.Markovitz(fraction,V, Mu, Lamda1, Lamda2, step, iteration, n_cond_init,temperature_fluctuation,a)\n",
    "Weights = markovitz.Ising_to_Potfolio()"
   ]
  }
 ],
 "metadata": {
  "kernelspec": {
   "display_name": "Python 3",
   "language": "python",
   "name": "python3"
  },
  "language_info": {
   "codemirror_mode": {
    "name": "ipython",
    "version": 3
   },
   "file_extension": ".py",
   "mimetype": "text/x-python",
   "name": "python",
   "nbconvert_exporter": "python",
   "pygments_lexer": "ipython3",
   "version": "3.10.11"
  }
 },
 "nbformat": 4,
 "nbformat_minor": 2
}
