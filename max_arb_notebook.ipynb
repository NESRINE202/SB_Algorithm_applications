{
 "cells": [
  {
   "cell_type": "code",
   "execution_count": 1,
   "metadata": {},
   "outputs": [],
   "source": [
    "import numpy as np\n",
    "from problem_reductions.max_arb_to_ising import *   \n",
    "from max_arb.exchange_rate_matrix import *\n",
    "from max_arb.solution_analysis import *\n",
    "import computing, results_annalysis"
   ]
  },
  {
   "cell_type": "markdown",
   "metadata": {},
   "source": [
    "## Fetch the real exchange rate matrix from Binance"
   ]
  },
  {
   "cell_type": "code",
   "execution_count": 2,
   "metadata": {},
   "outputs": [],
   "source": [
    "exchange_rate_matrix, coins = exchange_rate_matrix()"
   ]
  },
  {
   "cell_type": "code",
   "execution_count": 10,
   "metadata": {},
   "outputs": [],
   "source": [
    "# exchange_rate_matrix = np.log(exchange_rate_matrix)\n",
    "# ex_rate_flat = exchange_rate_matrix.flatten()\n",
    "exchange_rate_matrix = exchange_rate_matrix[:,:]"
   ]
  },
  {
   "cell_type": "code",
   "execution_count": 14,
   "metadata": {},
   "outputs": [
    {
     "data": {
      "text/plain": [
       "306916"
      ]
     },
     "execution_count": 14,
     "metadata": {},
     "output_type": "execute_result"
    }
   ],
   "source": [
    "n, _ = exchange_rate_matrix.shape\n",
    "n**2"
   ]
  },
  {
   "cell_type": "code",
   "execution_count": 4,
   "metadata": {},
   "outputs": [
    {
     "name": "stdout",
     "output_type": "stream",
     "text": [
      "[[nan nan nan]\n",
      " [nan nan nan]\n",
      " [nan nan nan]]\n"
     ]
    }
   ],
   "source": [
    "np.set_printoptions(threshold=np.inf)\n",
    "print(exchange_rate_matrix)"
   ]
  },
  {
   "cell_type": "code",
   "execution_count": 5,
   "metadata": {},
   "outputs": [
    {
     "data": {
      "text/plain": [
       "9"
      ]
     },
     "execution_count": 5,
     "metadata": {},
     "output_type": "execute_result"
    }
   ],
   "source": [
    "# exchange_rate_matrix[np.isnan(exchange_rate_matrix)]\n",
    "n, _ = np.shape(exchange_rate_matrix)\n",
    "n**2"
   ]
  },
  {
   "cell_type": "markdown",
   "metadata": {},
   "source": [
    "## Create an artificial (small), exchange rate matrix"
   ]
  },
  {
   "cell_type": "code",
   "execution_count": 4,
   "metadata": {},
   "outputs": [],
   "source": [
    "# exchange_rate_matrix = np.array([[np.nan, 1.1, np.nan], [np.nan, np.nan, 1.0], [1.0, np.nan, np.nan]])\n",
    "\n",
    "\n",
    "# Initialize a 9x9 numpy matrix\n",
    "exchange_rate_matrix = np.ones((9,9))\n",
    "\n",
    "# Let's say 1 unit of currency i can be exchanged for 1 unit of currency j, i!=j\n",
    "# Fill the diagonal with 1.0 (since any currency's rate to itself is 1)\n",
    "np.fill_diagonal(exchange_rate_matrix, 1.0)\n",
    "\n",
    "# Define the fictive exchange rates\n",
    "# From currency 1 to 2\n",
    "exchange_rate_matrix[0][1] = 0.9\n",
    "# From currency 2 to 3\n",
    "exchange_rate_matrix[1][2] = 0.9\n",
    "# And from currency 3 back to 1\n",
    "exchange_rate_matrix[2][0] = 1.2\n",
    "\n",
    "\n",
    "exchange_rate_matrix = np.log(exchange_rate_matrix)\n",
    "exchange_rate_matrix[np.isnan(exchange_rate_matrix)] = 0\n",
    "ex_rate_flat = exchange_rate_matrix.flatten()"
   ]
  },
  {
   "cell_type": "code",
   "execution_count": 29,
   "metadata": {},
   "outputs": [],
   "source": [
    "J, H = max_arb_to_ising(exchange_rate_matrix, 0, 0)"
   ]
  },
  {
   "cell_type": "code",
   "execution_count": 30,
   "metadata": {},
   "outputs": [
    {
     "data": {
      "text/plain": [
       "(array([[ 0., -0.,  0., ...,  0.,  0.,  0.],\n",
       "        [-0.,  0., -0., ..., -0., -0., -0.],\n",
       "        [ 0., -0.,  0., ...,  0.,  0.,  0.],\n",
       "        ...,\n",
       "        [ 0., -0.,  0., ...,  0.,  0.,  0.],\n",
       "        [ 0., -0.,  0., ...,  0.,  0.,  0.],\n",
       "        [ 0., -0.,  0., ...,  0.,  0.,  0.]]),\n",
       " array([ 0.        , -0.01621731,  0.        ,  0.        ,  0.        ,\n",
       "         0.        ,  0.        ,  0.        ,  0.        ,  0.        ,\n",
       "         0.        , -0.01621731,  0.        ,  0.        ,  0.        ,\n",
       "         0.        ,  0.        ,  0.        , -0.07683797,  0.        ,\n",
       "         0.        ,  0.        ,  0.        ,  0.        ,  0.        ,\n",
       "         0.        ,  0.        ,  0.        ,  0.        ,  0.        ,\n",
       "         0.        ,  0.        ,  0.        ,  0.        ,  0.        ,\n",
       "         0.        ,  0.        ,  0.        ,  0.        ,  0.        ,\n",
       "         0.        ,  0.        ,  0.        ,  0.        ,  0.        ,\n",
       "         0.        ,  0.        ,  0.        ,  0.        ,  0.        ,\n",
       "         0.        ,  0.        ,  0.        ,  0.        ,  0.        ,\n",
       "         0.        ,  0.        ,  0.        ,  0.        ,  0.        ,\n",
       "         0.        ,  0.        ,  0.        ,  0.        ,  0.        ,\n",
       "         0.        ,  0.        ,  0.        ,  0.        ,  0.        ,\n",
       "         0.        ,  0.        ,  0.        ,  0.        ,  0.        ,\n",
       "         0.        ,  0.        ,  0.        ,  0.        ,  0.        ,\n",
       "         0.        ]))"
      ]
     },
     "execution_count": 30,
     "metadata": {},
     "output_type": "execute_result"
    }
   ],
   "source": [
    "J, H"
   ]
  },
  {
   "cell_type": "markdown",
   "metadata": {},
   "source": [
    "# Fetch Chahin's test matrix"
   ]
  },
  {
   "cell_type": "code",
   "execution_count": 3,
   "metadata": {},
   "outputs": [
    {
     "name": "stdout",
     "output_type": "stream",
     "text": [
      "(array([[-6., -5., -4.,  2., -0., -0.,  2., -1., -0.,  2., -1., -1.],\n",
      "       [-5., -5., -4.,  2., -0., -0.,  2., -0., -0.,  2., -0., -1.],\n",
      "       [-4., -4., -4.,  2., -0., -0.,  2., -0., -0.,  2., -0., -0.],\n",
      "       [ 2., -0., -0., -4., -3., -3., -1.,  2., -0., -1.,  2., -0.],\n",
      "       [ 2., -0., -0., -3., -3., -3., -0.,  2., -0., -0.,  2., -0.],\n",
      "       [ 2., -0., -0., -3., -3., -3., -0.,  2., -0., -0.,  2., -0.],\n",
      "       [ 2.,  2., -0., -1., -0., -0., -4., -3., -3., -1., -0.,  2.],\n",
      "       [ 1.,  2., -0., -0., -0., -0., -3., -4., -3., -0., -1.,  2.],\n",
      "       [ 2.,  2., -0., -0., -0., -0., -3., -3., -3., -0., -0.,  2.],\n",
      "       [ 2.,  2.,  2., -1., -0., -0., -1., -0., -0., -4., -3., -3.],\n",
      "       [ 1.,  2.,  2., -0., -0., -0., -0., -1., -0., -3., -4., -3.],\n",
      "       [ 1.,  1.,  2., -0., -0., -0., -0., -0., -0., -3., -3., -4.]]), array([-1.90468982, -2.22314355, -2.01005034, -2.10637113, -2.10536052,\n",
      "       -1.90368023, -1.78488862, -1.90368023, -1.90468982, -2.        ,\n",
      "       -2.10536052, -2.10637113]))\n"
     ]
    }
   ],
   "source": [
    "import importlib\n",
    "\n",
    "# Replace spaces with underscores in the module name\n",
    "module_name = \"matrice pour la premiere contrainte\"\n",
    "\n",
    "# Import the module with spaces in the filename\n",
    "matrice_mod = importlib.import_module(module_name)"
   ]
  },
  {
   "cell_type": "code",
   "execution_count": 4,
   "metadata": {},
   "outputs": [],
   "source": [
    "J, H = matrice_mod.usage(1000, 1000, 4, matrice_mod.matr)"
   ]
  },
  {
   "cell_type": "code",
   "execution_count": 5,
   "metadata": {},
   "outputs": [
    {
     "data": {
      "text/plain": [
       "((12, 12), (12,))"
      ]
     },
     "execution_count": 5,
     "metadata": {},
     "output_type": "execute_result"
    }
   ],
   "source": [
    "J.shape, H.shape"
   ]
  },
  {
   "cell_type": "markdown",
   "metadata": {},
   "source": [
    "# Solve"
   ]
  },
  {
   "cell_type": "code",
   "execution_count": 6,
   "metadata": {},
   "outputs": [],
   "source": [
    "n_itterations=600\n",
    "step = 1\n",
    "\n",
    "def a(self, t):\n",
    "    a0=0\n",
    "    return 0\n",
    "    if t<70:\n",
    "        return -0.1\n",
    "    else:\n",
    "        return 0.2\n",
    "\n",
    "\n",
    "def temperature(self, t):\n",
    "    tau = n_itterations/1\n",
    "    # temp = 10*(1-np.exp(-1/tau*(t-1)))\n",
    "    temp = 0.01*np.log(10*t)\n",
    "    # return temp\n",
    "    return 0\n",
    "\n",
    "states, energies, path = computing.compute_single_instance(instance_size=12, step=0.001, n_itterations=n_itterations, n_cond_init=50, J=J, H=H, savetofile=False, temperature=temperature, a=a)"
   ]
  },
  {
   "cell_type": "code",
   "execution_count": 7,
   "metadata": {},
   "outputs": [
    {
     "data": {
      "image/png": "[encoded data removed]",
      "text/plain": [
       "<Figure size 432x288 with 1 Axes>"
      ]
     },
     "metadata": {
      "needs_background": "light"
     },
     "output_type": "display_data"
    }
   ],
   "source": [
    "results_annalysis.plot_energies_evolution(energies)"
   ]
  },
  {
   "cell_type": "code",
   "execution_count": 43,
   "metadata": {},
   "outputs": [],
   "source": [
    "_, spins, _= results_annalysis.extract_full_solution(states, energies)"
   ]
  },
  {
   "cell_type": "code",
   "execution_count": 44,
   "metadata": {},
   "outputs": [],
   "source": [
    "X = 0.5 * (spins + 1)\n",
    "# n = int(np.sqrt(len(X)))\n",
    "# X = X.reshape(n, n)"
   ]
  },
  {
   "cell_type": "code",
   "execution_count": 45,
   "metadata": {},
   "outputs": [
    {
     "data": {
      "text/plain": [
       "array([1., 1., 1., 0., 0., 1., 1., 1., 0., 1., 1., 1., 0., 1., 1., 1., 1.,\n",
       "       1., 1., 0., 0., 0., 0., 1., 0., 0., 0., 0., 1., 1., 0., 0., 1., 1.,\n",
       "       0., 0., 0., 0., 0., 1., 1., 1., 0., 1., 1., 1., 0., 1., 1., 1., 0.,\n",
       "       1., 0., 0., 0., 1., 0., 1., 0., 1., 0., 1., 0., 1., 1., 1., 0., 0.,\n",
       "       1., 0., 1., 0., 1., 1., 1., 0., 1., 0., 1., 0., 0.])"
      ]
     },
     "execution_count": 45,
     "metadata": {},
     "output_type": "execute_result"
    }
   ],
   "source": [
    "X"
   ]
  },
  {
   "cell_type": "code",
   "execution_count": 46,
   "metadata": {},
   "outputs": [
    {
     "ename": "ValueError",
     "evalue": "The trade sequence is not a circle. Increase coefficient lambda1 and retry",
     "output_type": "error",
     "traceback": [
      "\u001b[0;31m---------------------------------------------------------------------------\u001b[0m",
      "\u001b[0;31mValueError\u001b[0m                                Traceback (most recent call last)",
      "\u001b[0;32m/var/folders/yg/x9721f3x1x32ymx9lck7xw900000gn/T/ipykernel_50864/699627316.py\u001b[0m in \u001b[0;36m<module>\u001b[0;34m\u001b[0m\n\u001b[0;32m----> 1\u001b[0;31m \u001b[0mcheck_valid_solution\u001b[0m\u001b[0;34m(\u001b[0m\u001b[0mX\u001b[0m\u001b[0;34m,\u001b[0m \u001b[0mexchange_rate_matrix\u001b[0m\u001b[0;34m)\u001b[0m\u001b[0;34m\u001b[0m\u001b[0;34m\u001b[0m\u001b[0m\n\u001b[0m",
      "\u001b[0;32m~/Documents/CS/Biffucation Simulée/bifurcation-simule/max_arb/solution_analysis.py\u001b[0m in \u001b[0;36mcheck_valid_solution\u001b[0;34m(X, exchange_rate_matrix)\u001b[0m\n\u001b[1;32m     25\u001b[0m \u001b[0;34m\u001b[0m\u001b[0m\n\u001b[1;32m     26\u001b[0m         \u001b[0;32mif\u001b[0m \u001b[0msum1\u001b[0m \u001b[0;34m!=\u001b[0m \u001b[0msum2\u001b[0m\u001b[0;34m:\u001b[0m\u001b[0;34m\u001b[0m\u001b[0;34m\u001b[0m\u001b[0m\n\u001b[0;32m---> 27\u001b[0;31m             \u001b[0;32mraise\u001b[0m \u001b[0mValueError\u001b[0m\u001b[0;34m(\u001b[0m\u001b[0;34mf\"The trade sequence is not a circle. Increase coefficient lambda1 and retry\"\u001b[0m\u001b[0;34m)\u001b[0m\u001b[0;34m\u001b[0m\u001b[0;34m\u001b[0m\u001b[0m\n\u001b[0m\u001b[1;32m     28\u001b[0m \u001b[0;34m\u001b[0m\u001b[0m\n\u001b[1;32m     29\u001b[0m     \u001b[0;31m# Third check: second condition\u001b[0m\u001b[0;34m\u001b[0m\u001b[0;34m\u001b[0m\u001b[0m\n",
      "\u001b[0;31mValueError\u001b[0m: The trade sequence is not a circle. Increase coefficient lambda1 and retry"
     ]
    }
   ],
   "source": [
    "check_valid_solution(X, exchange_rate_matrix)"
   ]
  },
  {
   "cell_type": "code",
   "execution_count": 47,
   "metadata": {},
   "outputs": [
    {
     "data": {
      "text/plain": [
       "0.972"
      ]
     },
     "execution_count": 47,
     "metadata": {},
     "output_type": "execute_result"
    }
   ],
   "source": [
    "compute_theorical_proffit(X, exchange_rate_matrix)"
   ]
  },
  {
   "cell_type": "code",
   "execution_count": null,
   "metadata": {},
   "outputs": [],
   "source": []
  }
 ],
 "metadata": {
  "kernelspec": {
   "display_name": "base",
   "language": "python",
   "name": "python3"
  },
  "language_info": {
   "codemirror_mode": {
    "name": "ipython",
    "version": 3
   },
   "file_extension": ".py",
   "mimetype": "text/x-python",
   "name": "python",
   "nbconvert_exporter": "python",
   "pygments_lexer": "ipython3",
   "version": "3.9.7"
  },
  "orig_nbformat": 4
 },
 "nbformat": 4,
 "nbformat_minor": 2
}
