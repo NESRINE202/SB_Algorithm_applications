{
 "cells": [
  {
   "cell_type": "code",
   "execution_count": 1,
   "metadata": {},
   "outputs": [],
   "source": [
    "import numpy as np\n",
    "import computing, results_annalysis\n",
    "import instance_genrerantion\n",
    "from scipy.optimize import dual_annealing\n",
    "import time\n",
    "import random\n",
    "import networkx as nx\n",
    "import math\n",
    "import matplotlib.pyplot as plt"
   ]
  },
  {
   "cell_type": "code",
   "execution_count": 2,
   "metadata": {},
   "outputs": [],
   "source": [
    "def read_graph(filename):\n",
    "    with open(filename, 'r') as file:\n",
    "        lines = file.readlines()\n",
    "        N, E = map(int, lines[0].split())\n",
    "        graph = np.zeros((N, N))\n",
    "        for line in lines[1:]:\n",
    "            i, j, w = map(int, line.split())\n",
    "            graph[i-1, j-1] = w\n",
    "            graph[j-1, i-1] = w  # since the graph is undirected\n",
    "            \n",
    "    return np.array(graph)"
   ]
  },
  {
   "cell_type": "code",
   "execution_count": 3,
   "metadata": {},
   "outputs": [],
   "source": [
    "graph = read_graph('MAX-CUT dataset/G24')"
   ]
  },
  {
   "cell_type": "code",
   "execution_count": 4,
   "metadata": {},
   "outputs": [
    {
     "data": {
      "text/plain": [
       "2000.0"
      ]
     },
     "execution_count": 4,
     "metadata": {},
     "output_type": "execute_result"
    }
   ],
   "source": [
    "np.sqrt(graph.size)"
   ]
  },
  {
   "cell_type": "code",
   "execution_count": 5,
   "metadata": {},
   "outputs": [],
   "source": [
    "size = 2000\n",
    "graph = graph[:size, :size]"
   ]
  },
  {
   "cell_type": "code",
   "execution_count": 6,
   "metadata": {},
   "outputs": [],
   "source": [
    "J = graph/2\n",
    "# np.fill_diagonal(J, 0)\n",
    "H = np.zeros(size)\n",
    "# H = 100*J[0, :]"
   ]
  },
  {
   "attachments": {},
   "cell_type": "markdown",
   "metadata": {},
   "source": [
    "## Simulation avec des paramètres choisis"
   ]
  },
  {
   "cell_type": "code",
   "execution_count": 7,
   "metadata": {},
   "outputs": [],
   "source": [
    "n_itterations=1200\n",
    "\n",
    "def a(self, t):\n",
    "    a0=0\n",
    "    return 0\n",
    "    if t<70:\n",
    "        return -0.1\n",
    "    else:\n",
    "        return 0.2\n",
    "\n",
    "\n",
    "def temperature(self, t):\n",
    "    tau = n_itterations/1\n",
    "    # temp = 10*(1-np.exp(-1/tau*(t-1)))\n",
    "    temp = 0.01*np.log(10*t)\n",
    "    # return temp\n",
    "    return 0\n",
    "\n",
    "def step_func(self, t):\n",
    "    return 100*np.exp(-10**(-3)*(t-1))"
   ]
  },
  {
   "cell_type": "code",
   "execution_count": 8,
   "metadata": {},
   "outputs": [],
   "source": [
    "\n",
    "states, energies, biffurcation_rate, path = computing.compute_single_instance(instance_size=size, step=0.5, n_itterations=n_itterations, n_cond_init=800, J=J, H=H, savetofile=False, temperature=temperature, a=a, stopping_criterion=0.001, save_history=False)"
   ]
  },
  {
   "attachments": {},
   "cell_type": "markdown",
   "metadata": {},
   "source": [
    "On a directement accès aux résultats et aussi aux chemin d'accès du fichier contenant l'instance, les paramètres ou les résultats si on veut y avoir accès plus tard"
   ]
  },
  {
   "cell_type": "code",
   "execution_count": 9,
   "metadata": {},
   "outputs": [
    {
     "data": {
      "text/plain": [
       "[<matplotlib.lines.Line2D at 0x11ce8efd0>]"
      ]
     },
     "execution_count": 9,
     "metadata": {},
     "output_type": "execute_result"
    },
    {
     "data": {
      "image/png": "[encoded data removed]",
      "text/plain": [
       "<Figure size 432x288 with 1 Axes>"
      ]
     },
     "metadata": {
      "needs_background": "light"
     },
     "output_type": "display_data"
    }
   ],
   "source": [
    "plt.plot(energies)"
   ]
  },
  {
   "cell_type": "code",
   "execution_count": 10,
   "metadata": {},
   "outputs": [
    {
     "ename": "IndexError",
     "evalue": "too many indices for array: array is 1-dimensional, but 2 were indexed",
     "output_type": "error",
     "traceback": [
      "\u001b[0;31m---------------------------------------------------------------------------\u001b[0m",
      "\u001b[0;31mIndexError\u001b[0m                                Traceback (most recent call last)",
      "\u001b[0;32m/var/folders/yg/x9721f3x1x32ymx9lck7xw900000gn/T/ipykernel_23558/2126980605.py\u001b[0m in \u001b[0;36m<module>\u001b[0;34m\u001b[0m\n\u001b[0;32m----> 1\u001b[0;31m \u001b[0mresults_annalysis\u001b[0m\u001b[0;34m.\u001b[0m\u001b[0mplot_energies_evolution\u001b[0m\u001b[0;34m(\u001b[0m\u001b[0menergies\u001b[0m\u001b[0;34m[\u001b[0m\u001b[0;34m:\u001b[0m\u001b[0;34m,\u001b[0m \u001b[0;34m:\u001b[0m\u001b[0;34m]\u001b[0m\u001b[0;34m)\u001b[0m\u001b[0;34m\u001b[0m\u001b[0;34m\u001b[0m\u001b[0m\n\u001b[0m",
      "\u001b[0;31mIndexError\u001b[0m: too many indices for array: array is 1-dimensional, but 2 were indexed"
     ]
    }
   ],
   "source": [
    "results_annalysis.plot_energies_evolution(energies[:, :])"
   ]
  },
  {
   "cell_type": "code",
   "execution_count": 10,
   "metadata": {},
   "outputs": [
    {
     "data": {
      "text/plain": [
       "(800, 60)"
      ]
     },
     "execution_count": 10,
     "metadata": {},
     "output_type": "execute_result"
    }
   ],
   "source": [
    "energies.shape"
   ]
  },
  {
   "cell_type": "code",
   "execution_count": 11,
   "metadata": {},
   "outputs": [
    {
     "data": {
      "text/plain": [
       "[<matplotlib.lines.Line2D at 0x124d831f0>]"
      ]
     },
     "execution_count": 11,
     "metadata": {},
     "output_type": "execute_result"
    },
    {
     "data": {
      "image/png": "[encoded data removed]",
      "text/plain": [
       "<Figure size 432x288 with 1 Axes>"
      ]
     },
     "metadata": {
      "needs_background": "light"
     },
     "output_type": "display_data"
    }
   ],
   "source": [
    "plt.plot(biffurcation_rate[:])"
   ]
  },
  {
   "cell_type": "code",
   "execution_count": 12,
   "metadata": {},
   "outputs": [
    {
     "ename": "NameError",
     "evalue": "name 'n_particle' is not defined",
     "output_type": "error",
     "traceback": [
      "\u001b[0;31m---------------------------------------------------------------------------\u001b[0m",
      "\u001b[0;31mNameError\u001b[0m                                 Traceback (most recent call last)",
      "\u001b[0;32m/var/folders/yg/x9721f3x1x32ymx9lck7xw900000gn/T/ipykernel_7206/583673003.py\u001b[0m in \u001b[0;36m<module>\u001b[0;34m\u001b[0m\n\u001b[0;32m----> 1\u001b[0;31m \u001b[0;32mfor\u001b[0m \u001b[0mi\u001b[0m \u001b[0;32min\u001b[0m \u001b[0mrange\u001b[0m\u001b[0;34m(\u001b[0m\u001b[0mn_particle\u001b[0m\u001b[0;34m)\u001b[0m\u001b[0;34m:\u001b[0m\u001b[0;34m\u001b[0m\u001b[0;34m\u001b[0m\u001b[0m\n\u001b[0m\u001b[1;32m      2\u001b[0m     \u001b[0mplt\u001b[0m\u001b[0;34m.\u001b[0m\u001b[0mplot\u001b[0m\u001b[0;34m(\u001b[0m\u001b[0mabcisses\u001b[0m\u001b[0;34m,\u001b[0m \u001b[0mspeeds\u001b[0m\u001b[0;34m[\u001b[0m\u001b[0;36m3\u001b[0m\u001b[0;34m,\u001b[0m \u001b[0mi\u001b[0m\u001b[0;34m,\u001b[0m \u001b[0;34m:\u001b[0m\u001b[0;34m]\u001b[0m\u001b[0;34m)\u001b[0m\u001b[0;34m\u001b[0m\u001b[0;34m\u001b[0m\u001b[0m\n\u001b[1;32m      3\u001b[0m     \u001b[0mplt\u001b[0m\u001b[0;34m.\u001b[0m\u001b[0mxlabel\u001b[0m\u001b[0;34m(\u001b[0m\u001b[0;34m\"Iteration number\"\u001b[0m\u001b[0;34m)\u001b[0m\u001b[0;34m\u001b[0m\u001b[0;34m\u001b[0m\u001b[0m\n\u001b[1;32m      4\u001b[0m     \u001b[0mplt\u001b[0m\u001b[0;34m.\u001b[0m\u001b[0mylabel\u001b[0m\u001b[0;34m(\u001b[0m\u001b[0;34m\"Particle speed\"\u001b[0m\u001b[0;34m)\u001b[0m\u001b[0;34m\u001b[0m\u001b[0;34m\u001b[0m\u001b[0m\n\u001b[1;32m      5\u001b[0m     \u001b[0mplt\u001b[0m\u001b[0;34m.\u001b[0m\u001b[0mtitle\u001b[0m\u001b[0;34m(\u001b[0m\u001b[0;34m\"Particle speeds evolution\"\u001b[0m\u001b[0;34m)\u001b[0m\u001b[0;34m\u001b[0m\u001b[0;34m\u001b[0m\u001b[0m\n",
      "\u001b[0;31mNameError\u001b[0m: name 'n_particle' is not defined"
     ]
    }
   ],
   "source": [
    "for i in range(n_particle):\n",
    "    plt.plot(abcisses, speeds[3, i, :])\n",
    "    plt.xlabel(\"Iteration number\")\n",
    "    plt.ylabel(\"Particle speed\")\n",
    "    plt.title(\"Particle speeds evolution\")"
   ]
  },
  {
   "cell_type": "code",
   "execution_count": 13,
   "metadata": {},
   "outputs": [
    {
     "ename": "NameError",
     "evalue": "name 'n_particle' is not defined",
     "output_type": "error",
     "traceback": [
      "\u001b[0;31m---------------------------------------------------------------------------\u001b[0m",
      "\u001b[0;31mNameError\u001b[0m                                 Traceback (most recent call last)",
      "\u001b[0;32m/var/folders/yg/x9721f3x1x32ymx9lck7xw900000gn/T/ipykernel_7206/2727123350.py\u001b[0m in \u001b[0;36m<module>\u001b[0;34m\u001b[0m\n\u001b[0;32m----> 1\u001b[0;31m \u001b[0;32mfor\u001b[0m \u001b[0mi\u001b[0m \u001b[0;32min\u001b[0m \u001b[0mrange\u001b[0m\u001b[0;34m(\u001b[0m\u001b[0mn_particle\u001b[0m\u001b[0;34m)\u001b[0m\u001b[0;34m:\u001b[0m\u001b[0;34m\u001b[0m\u001b[0;34m\u001b[0m\u001b[0m\n\u001b[0m\u001b[1;32m      2\u001b[0m     \u001b[0mplt\u001b[0m\u001b[0;34m.\u001b[0m\u001b[0mplot\u001b[0m\u001b[0;34m(\u001b[0m\u001b[0mabcisses\u001b[0m\u001b[0;34m,\u001b[0m \u001b[0mpositions\u001b[0m\u001b[0;34m[\u001b[0m\u001b[0;36m1\u001b[0m\u001b[0;34m,\u001b[0m \u001b[0mi\u001b[0m\u001b[0;34m,\u001b[0m \u001b[0;34m:\u001b[0m\u001b[0;34m]\u001b[0m\u001b[0;34m)\u001b[0m\u001b[0;34m\u001b[0m\u001b[0;34m\u001b[0m\u001b[0m\n\u001b[1;32m      3\u001b[0m     \u001b[0mplt\u001b[0m\u001b[0;34m.\u001b[0m\u001b[0mxlabel\u001b[0m\u001b[0;34m(\u001b[0m\u001b[0;34m\"Iteration number\"\u001b[0m\u001b[0;34m)\u001b[0m\u001b[0;34m\u001b[0m\u001b[0;34m\u001b[0m\u001b[0m\n\u001b[1;32m      4\u001b[0m     \u001b[0mplt\u001b[0m\u001b[0;34m.\u001b[0m\u001b[0mylabel\u001b[0m\u001b[0;34m(\u001b[0m\u001b[0;34m\"Particle position\"\u001b[0m\u001b[0;34m)\u001b[0m\u001b[0;34m\u001b[0m\u001b[0;34m\u001b[0m\u001b[0m\n\u001b[1;32m      5\u001b[0m     \u001b[0mplt\u001b[0m\u001b[0;34m.\u001b[0m\u001b[0mtitle\u001b[0m\u001b[0;34m(\u001b[0m\u001b[0;34m\"Particle position evolution\"\u001b[0m\u001b[0;34m)\u001b[0m\u001b[0;34m\u001b[0m\u001b[0;34m\u001b[0m\u001b[0m\n",
      "\u001b[0;31mNameError\u001b[0m: name 'n_particle' is not defined"
     ]
    }
   ],
   "source": [
    "for i in range(n_particle):\n",
    "    plt.plot(abcisses, positions[1, i, :])\n",
    "    plt.xlabel(\"Iteration number\")\n",
    "    plt.ylabel(\"Particle position\")\n",
    "    plt.title(\"Particle position evolution\")"
   ]
  },
  {
   "cell_type": "code",
   "execution_count": 16,
   "metadata": {},
   "outputs": [
    {
     "data": {
      "text/plain": [
       "(100, 400, 1200)"
      ]
     },
     "execution_count": 16,
     "metadata": {},
     "output_type": "execute_result"
    }
   ],
   "source": [
    "indexes = np.where(mask)\n",
    "positions.shape"
   ]
  },
  {
   "cell_type": "code",
   "execution_count": 17,
   "metadata": {},
   "outputs": [],
   "source": [
    "positions = states[:, :, :, 0]\n",
    "n_cond_init, n_particle,  n_iterration = speeds.shape \n",
    "abcisses = np.arange(n_iterration)"
   ]
  },
  {
   "cell_type": "code",
   "execution_count": 18,
   "metadata": {},
   "outputs": [],
   "source": [
    "energy, spins, _ = results_annalysis.extract_full_solution(states, energies)\n",
    "SB_sol = 0.5*(spins+1)"
   ]
  },
  {
   "cell_type": "code",
   "execution_count": 48,
   "metadata": {},
   "outputs": [
    {
     "data": {
      "text/plain": [
       "2607.0"
      ]
     },
     "execution_count": 48,
     "metadata": {},
     "output_type": "execute_result"
    }
   ],
   "source": [
    "-2*energy"
   ]
  },
  {
   "cell_type": "markdown",
   "metadata": {},
   "source": [
    "## Simulated Annealing"
   ]
  },
  {
   "cell_type": "code",
   "execution_count": null,
   "metadata": {},
   "outputs": [],
   "source": [
    "def calculate_cut_value(adj_matrix, solution):\n",
    "    cut_value = 0\n",
    "    for i in range(len(solution)):\n",
    "        for j in range(len(solution)):\n",
    "            if solution[i] != solution[j]:\n",
    "                cut_value += adj_matrix[i][j]\n",
    "    return cut_value\n",
    "\n",
    "def simulated_annealing(adj_matrix, time_limit):\n",
    "    # Initialize with a random solution\n",
    "    current_solution = np.random.choice([0, 1], size=(adj_matrix.shape[0],))\n",
    "    best_solution = np.copy(current_solution)\n",
    "    current_cut_value = calculate_cut_value(adj_matrix, current_solution)\n",
    "    best_cut_value = current_cut_value\n",
    "    \n",
    "    # Parameters for the annealing schedule\n",
    "    temp = 1.0\n",
    "    cooling_rate = 0.99\n",
    "    \n",
    "    start_time = time.time()\n",
    "    \n",
    "    while time.time() - start_time < time_limit:\n",
    "        # Create a new neighbor solution\n",
    "        new_solution = np.copy(current_solution)\n",
    "        # Flip a random bit to create a neighbor solution\n",
    "        flip_index = random.randint(0, len(new_solution) - 1)\n",
    "        new_solution[flip_index] = 1 - new_solution[flip_index]\n",
    "        \n",
    "        new_cut_value = calculate_cut_value(adj_matrix, new_solution)\n",
    "        \n",
    "        # Determine if we should accept the new solution\n",
    "        if new_cut_value > current_cut_value:\n",
    "            current_solution = new_solution\n",
    "            current_cut_value = new_cut_value\n",
    "            if new_cut_value > best_cut_value:\n",
    "                best_solution = new_solution\n",
    "                best_cut_value = new_cut_value\n",
    "        else:\n",
    "            # Accept with a certain probability if the new solution is worse\n",
    "            if random.random() < math.exp((new_cut_value - current_cut_value) / temp):\n",
    "                current_solution = new_solution\n",
    "                current_cut_value = new_cut_value\n",
    "        \n",
    "        # Decrease the temperature\n",
    "        temp *= cooling_rate\n",
    "    \n",
    "    return best_solution, best_cut_value"
   ]
  },
  {
   "cell_type": "code",
   "execution_count": null,
   "metadata": {},
   "outputs": [],
   "source": [
    "def simulated_annealing_max_cut(G, time_limit):\n",
    "    # Initial random partition\n",
    "    partition = np.random.choice([0, 1], size=len(G.nodes))\n",
    "    best_partition = np.copy(partition)\n",
    "    best_cut_value = nx.cut_size(G, np.where(partition == 0)[0], np.where(partition == 1)[0])\n",
    "\n",
    "    # Set initial temperature and cooling schedule\n",
    "    T = 10.0\n",
    "    T_min = 0.001\n",
    "    alpha = 0.9\n",
    "\n",
    "    start_time = time.time()\n",
    "\n",
    "    while time.time() - start_time < time_limit:\n",
    "        for i in range(100):  # Perform 100 iterations at each temperature\n",
    "            # Pick a random node and toggle its part\n",
    "            node = random.choice(list(G.nodes))\n",
    "            partition[node] = 1 - partition[node]\n",
    "\n",
    "            # Calculate the cut value\n",
    "            current_cut_value = nx.cut_size(G, np.where(partition == 0)[0], np.where(partition == 1)[0])\n",
    "\n",
    "            # Check if the new partition is better or accepted by the probability\n",
    "            delta = current_cut_value - best_cut_value\n",
    "            if delta > 0 or random.random() < np.exp(delta / T):\n",
    "                if delta > 0:\n",
    "                    best_cut_value = current_cut_value\n",
    "                    best_partition = np.copy(partition)\n",
    "            else:\n",
    "                # Revert the change\n",
    "                partition[node] = 1 - partition[node]\n",
    "\n",
    "        # Cool down the temperature\n",
    "        T = max(T_min, T * alpha)\n",
    "\n",
    "    return best_partition, best_cut_value"
   ]
  },
  {
   "cell_type": "code",
   "execution_count": null,
   "metadata": {},
   "outputs": [],
   "source": [
    "SA_sol, SA_energy = simulated_annealing_max_cut(nx.DiGraph(graph), 25)"
   ]
  },
  {
   "cell_type": "code",
   "execution_count": null,
   "metadata": {},
   "outputs": [],
   "source": [
    "calculate_cut_value(graph, SA_sol), calculate_cut_value(graph, SB_sol)"
   ]
  },
  {
   "cell_type": "code",
   "execution_count": null,
   "metadata": {},
   "outputs": [],
   "source": []
  }
 ],
 "metadata": {
  "kernelspec": {
   "display_name": "base",
   "language": "python",
   "name": "python3"
  },
  "language_info": {
   "codemirror_mode": {
    "name": "ipython",
    "version": 3
   },
   "file_extension": ".py",
   "mimetype": "text/x-python",
   "name": "python",
   "nbconvert_exporter": "python",
   "pygments_lexer": "ipython3",
   "version": "3.9.7"
  },
  "orig_nbformat": 4
 },
 "nbformat": 4,
 "nbformat_minor": 2
}
