{
 "cells": [
  {
   "cell_type": "markdown",
   "metadata": {},
   "source": [
    "# **Testing SB with a simple problem**\n",
    "\n",
    "Number partioning problem we are deviding objects with different weight into two backpacks\n",
    "\n",
    "Minimize :  \n",
    " "
   ]
  },
  {
   "cell_type": "code",
   "execution_count": null,
   "metadata": {},
   "outputs": [],
   "source": [
    "# Creating the backpack problem\n",
    "\n",
    "Weights= [10,100,10,100,5,5,6,6]\n",
    "\n",
    "\n"
   ]
  },
  {
   "cell_type": "code",
   "execution_count": null,
   "metadata": {},
   "outputs": [],
   "source": [
    "# Reduction into an Ising problem \n",
    "# Il faut voir les slides de l'année dernière \n",
    "\n",
    "# H = \n",
    "# J = \n"
   ]
  }
 ],
 "metadata": {
  "language_info": {
   "name": "python"
  }
 },
 "nbformat": 4,
 "nbformat_minor": 2
}
