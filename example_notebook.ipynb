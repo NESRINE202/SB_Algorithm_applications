{
 "cells": [
  {
   "cell_type": "code",
   "execution_count": 1,
   "metadata": {},
   "outputs": [],
   "source": [
    "import numpy as np\n",
    "import simulation_manager, results_annalysis\n",
    "import instance_genrerantion\n",
    "import matplotlib.pyplot as plt\n",
    "import time\n",
    "import pandas as pd"
   ]
  },
  {
   "attachments": {},
   "cell_type": "markdown",
   "metadata": {},
   "source": [
    "## Création de l'instance"
   ]
  },
  {
   "attachments": {},
   "cell_type": "markdown",
   "metadata": {},
   "source": [
    "#### Génération d'une instance par réduction"
   ]
  },
  {
   "cell_type": "code",
   "execution_count": 32,
   "metadata": {},
   "outputs": [],
   "source": [
    "from problem_reductions.npp_to_ising import *\n",
    "# NPP instance\n",
    "weights = [1, 2, 3, 4]\n",
    "\n",
    "# Ising instance\n",
    "J, H = npp_to_ising(weights=weights)"
   ]
  },
  {
   "attachments": {},
   "cell_type": "markdown",
   "metadata": {},
   "source": [
    "#### Ou génération d'un instance aléatoire"
   ]
  },
  {
   "cell_type": "code",
   "execution_count": 33,
   "metadata": {},
   "outputs": [],
   "source": [
    "instance_size = 2000\n",
    "np.random.seed(4)\n",
    "J, H = instance_genrerantion.generate_instance(size=instance_size)\n",
    "J = np.random.normal(loc=0, scale=4, size=(instance_size, instance_size))\n",
    "np.fill_diagonal(J, 0)\n",
    "J = (J + J.T) / 2"
   ]
  },
  {
   "cell_type": "code",
   "execution_count": 34,
   "metadata": {},
   "outputs": [],
   "source": [
    "def read_graph(filename):\n",
    "    with open(filename, 'r') as file:\n",
    "        lines = file.readlines()\n",
    "        N, E = map(int, lines[0].split())\n",
    "        graph = np.zeros((N, N))\n",
    "        for line in lines[1:]:\n",
    "            i, j, w = map(int, line.split())\n",
    "            graph[i-1, j-1] = w\n",
    "            graph[j-1, i-1] = w  # since the graph is undirected\n",
    "            \n",
    "    return np.array(graph)\n",
    "\n",
    "graph = read_graph('MAX-CUT dataset/G24')\n",
    "size = 2000\n",
    "graph = graph[:size, :size]\n",
    "J = graph/2\n",
    "np.fill_diagonal(J, 0)\n",
    "H = np.zeros(size)"
   ]
  },
  {
   "cell_type": "code",
   "execution_count": 35,
   "metadata": {},
   "outputs": [
    {
     "name": "stdout",
     "output_type": "stream",
     "text": [
      "J max-min eigenvalues:  (-4.5263154347118295, 10.537277455348928)\n"
     ]
    }
   ],
   "source": [
    "eigs = np.linalg.eigvals(J)\n",
    "print(\"J max-min eigenvalues: \", (eigs.min(), eigs.max()))"
   ]
  },
  {
   "cell_type": "code",
   "execution_count": 36,
   "metadata": {},
   "outputs": [
    {
     "data": {
      "text/plain": [
       "0.0866755613592684"
      ]
     },
     "execution_count": 36,
     "metadata": {},
     "output_type": "execute_result"
    }
   ],
   "source": [
    "# ksi = 0.5/np.sqrt( np.sum(np.square(J)) / (instance_size-1) )\n",
    "ksi = 1/(eigs.max()+1)\n",
    "ksi"
   ]
  },
  {
   "cell_type": "code",
   "execution_count": 37,
   "metadata": {},
   "outputs": [
    {
     "data": {
      "text/plain": [
       "(0.08667556135926835, 1.392320931192769)"
      ]
     },
     "execution_count": 37,
     "metadata": {},
     "output_type": "execute_result"
    }
   ],
   "source": [
    "p_first = 1-ksi*np.real(eigs.max())\n",
    "p_last = 1-ksi*np.real(eigs.min())\n",
    "p_first, p_last"
   ]
  },
  {
   "cell_type": "code",
   "execution_count": 38,
   "metadata": {},
   "outputs": [],
   "source": [
    "num_iterations = 800\n",
    "lag = 0\n",
    "\n",
    "def pumpuing_rate(self, t):\n",
    "    if t<lag:\n",
    "        return 0\n",
    "    else:\n",
    "        return 1.1 * p_last * (t-lag)/(num_iterations-lag)"
   ]
  },
  {
   "cell_type": "code",
   "execution_count": 39,
   "metadata": {},
   "outputs": [],
   "source": [
    "t_first, t_last = lag + (num_iterations-lag)*p_first, lag + (num_iterations-lag)*p_last"
   ]
  },
  {
   "cell_type": "code",
   "execution_count": 40,
   "metadata": {},
   "outputs": [
    {
     "data": {
      "text/plain": [
       "0.13274821813373175"
      ]
     },
     "execution_count": 40,
     "metadata": {},
     "output_type": "execute_result"
    }
   ],
   "source": [
    "pumpuing_rate(_, t_first)"
   ]
  },
  {
   "attachments": {},
   "cell_type": "markdown",
   "metadata": {},
   "source": [
    "## Simulation avec des paramètres choisis"
   ]
  },
  {
   "cell_type": "code",
   "execution_count": 44,
   "metadata": {},
   "outputs": [],
   "source": [
    "manager = simulation_manager.SimulationManager(step_size=0.5, num_iterations=num_iterations, num_simulations=2, J=J, H=H, pumping_rate=pumpuing_rate, stopping_criterion=0.5, save_states_history=True, save_energies_history=True, n_threads=2, savetofile=False)"
   ]
  },
  {
   "cell_type": "code",
   "execution_count": 45,
   "metadata": {},
   "outputs": [
    {
     "ename": "ValueError",
     "evalue": "zero-dimensional arrays cannot be concatenated",
     "output_type": "error",
     "traceback": [
      "\u001b[0;31m---------------------------------------------------------------------------\u001b[0m",
      "\u001b[0;31mValueError\u001b[0m                                Traceback (most recent call last)",
      "\u001b[0;32m/var/folders/yg/x9721f3x1x32ymx9lck7xw900000gn/T/ipykernel_6133/2478468059.py\u001b[0m in \u001b[0;36m<module>\u001b[0;34m\u001b[0m\n\u001b[0;32m----> 1\u001b[0;31m \u001b[0m_\u001b[0m\u001b[0;34m,\u001b[0m \u001b[0m_\u001b[0m\u001b[0;34m,\u001b[0m \u001b[0mlast_states\u001b[0m\u001b[0;34m,\u001b[0m \u001b[0mlast_TAC_states\u001b[0m\u001b[0;34m,\u001b[0m \u001b[0mlast_sign_States\u001b[0m\u001b[0;34m,\u001b[0m \u001b[0mlast_energies\u001b[0m\u001b[0;34m,\u001b[0m \u001b[0mlast_TAC_energies\u001b[0m\u001b[0;34m,\u001b[0m \u001b[0mlast_sign_energies\u001b[0m\u001b[0;34m,\u001b[0m \u001b[0mfinal_times\u001b[0m\u001b[0;34m,\u001b[0m \u001b[0msign_times\u001b[0m\u001b[0;34m,\u001b[0m \u001b[0mTAC_times\u001b[0m \u001b[0;34m=\u001b[0m \u001b[0mmanager\u001b[0m\u001b[0;34m.\u001b[0m\u001b[0mrun_simulation\u001b[0m\u001b[0;34m(\u001b[0m\u001b[0;34m)\u001b[0m\u001b[0;34m\u001b[0m\u001b[0;34m\u001b[0m\u001b[0m\n\u001b[0m",
      "\u001b[0;32m~/Documents/CS/Biffucation Simulée/bifurcation-simule/simulation_manager.py\u001b[0m in \u001b[0;36mrun_simulation\u001b[0;34m(self)\u001b[0m\n\u001b[1;32m     85\u001b[0m \u001b[0;34m\u001b[0m\u001b[0m\n\u001b[1;32m     86\u001b[0m             \u001b[0magg_last_states\u001b[0m \u001b[0;34m=\u001b[0m \u001b[0mnp\u001b[0m\u001b[0;34m.\u001b[0m\u001b[0mconcatenate\u001b[0m\u001b[0;34m(\u001b[0m\u001b[0mloc_last_states_array\u001b[0m\u001b[0;34m,\u001b[0m \u001b[0maxis\u001b[0m\u001b[0;34m=\u001b[0m\u001b[0;36m0\u001b[0m\u001b[0;34m)\u001b[0m\u001b[0;34m\u001b[0m\u001b[0;34m\u001b[0m\u001b[0m\n\u001b[0;32m---> 87\u001b[0;31m             \u001b[0magg_last_TAC_states\u001b[0m \u001b[0;34m=\u001b[0m \u001b[0mnp\u001b[0m\u001b[0;34m.\u001b[0m\u001b[0mconcatenate\u001b[0m\u001b[0;34m(\u001b[0m\u001b[0mloc_last_TAC_states_array\u001b[0m\u001b[0;34m,\u001b[0m \u001b[0maxis\u001b[0m\u001b[0;34m=\u001b[0m\u001b[0;36m0\u001b[0m\u001b[0;34m)\u001b[0m\u001b[0;34m\u001b[0m\u001b[0;34m\u001b[0m\u001b[0m\n\u001b[0m\u001b[1;32m     88\u001b[0m             \u001b[0magg_last_sign_states\u001b[0m \u001b[0;34m=\u001b[0m \u001b[0mnp\u001b[0m\u001b[0;34m.\u001b[0m\u001b[0mconcatenate\u001b[0m\u001b[0;34m(\u001b[0m\u001b[0mloc_last_sign_states_array\u001b[0m\u001b[0;34m,\u001b[0m \u001b[0maxis\u001b[0m\u001b[0;34m=\u001b[0m\u001b[0;36m0\u001b[0m\u001b[0;34m)\u001b[0m\u001b[0;34m\u001b[0m\u001b[0;34m\u001b[0m\u001b[0m\n\u001b[1;32m     89\u001b[0m \u001b[0;34m\u001b[0m\u001b[0m\n",
      "\u001b[0;32m~/miniconda3/lib/python3.9/site-packages/numpy/core/overrides.py\u001b[0m in \u001b[0;36mconcatenate\u001b[0;34m(*args, **kwargs)\u001b[0m\n",
      "\u001b[0;31mValueError\u001b[0m: zero-dimensional arrays cannot be concatenated"
     ]
    }
   ],
   "source": [
    "_, _, last_states, last_TAC_states, last_sign_States, last_energies, last_TAC_energies, last_sign_energies, final_times, sign_times, TAC_times = manager.run_simulation()"
   ]
  },
  {
   "cell_type": "code",
   "execution_count": 13,
   "metadata": {},
   "outputs": [
    {
     "ename": "NameError",
     "evalue": "name 'final_times' is not defined",
     "output_type": "error",
     "traceback": [
      "\u001b[0;31m---------------------------------------------------------------------------\u001b[0m",
      "\u001b[0;31mNameError\u001b[0m                                 Traceback (most recent call last)",
      "\u001b[0;32m/var/folders/yg/x9721f3x1x32ymx9lck7xw900000gn/T/ipykernel_6133/4185043250.py\u001b[0m in \u001b[0;36m<module>\u001b[0;34m\u001b[0m\n\u001b[0;32m----> 1\u001b[0;31m \u001b[0mfinal_times\u001b[0m\u001b[0;34m,\u001b[0m \u001b[0msign_times\u001b[0m\u001b[0;34m,\u001b[0m \u001b[0mTAC_times\u001b[0m\u001b[0;34m\u001b[0m\u001b[0;34m\u001b[0m\u001b[0m\n\u001b[0m",
      "\u001b[0;31mNameError\u001b[0m: name 'final_times' is not defined"
     ]
    }
   ],
   "source": [
    "final_times, sign_times, TAC_times"
   ]
  },
  {
   "cell_type": "code",
   "execution_count": 24,
   "metadata": {},
   "outputs": [],
   "source": [
    "perfs = np.zeros(shape=(2, 2))\n",
    "perfs[:, 0] = last_sign_energies\n",
    "perfs[:, 1] = last_sign_energies"
   ]
  },
  {
   "cell_type": "code",
   "execution_count": 25,
   "metadata": {},
   "outputs": [
    {
     "data": {
      "text/plain": [
       "array([[-381695.81356054, -381695.81356054],\n",
       "       [-380884.53433388, -380884.53433388]])"
      ]
     },
     "execution_count": 25,
     "metadata": {},
     "output_type": "execute_result"
    }
   ],
   "source": [
    "perfs"
   ]
  },
  {
   "cell_type": "code",
   "execution_count": 26,
   "metadata": {},
   "outputs": [
    {
     "ename": "NameError",
     "evalue": "name 'end_t' is not defined",
     "output_type": "error",
     "traceback": [
      "\u001b[0;31m---------------------------------------------------------------------------\u001b[0m",
      "\u001b[0;31mNameError\u001b[0m                                 Traceback (most recent call last)",
      "\u001b[0;32m/var/folders/yg/x9721f3x1x32ymx9lck7xw900000gn/T/ipykernel_6133/54645595.py\u001b[0m in \u001b[0;36m<module>\u001b[0;34m\u001b[0m\n\u001b[0;32m----> 1\u001b[0;31m \u001b[0;34m[\u001b[0m\u001b[0mlast_energies\u001b[0m\u001b[0;34m[\u001b[0m\u001b[0;36m0\u001b[0m\u001b[0;34m]\u001b[0m\u001b[0;34m.\u001b[0m\u001b[0mmean\u001b[0m\u001b[0;34m(\u001b[0m\u001b[0;34m)\u001b[0m\u001b[0;34m,\u001b[0m \u001b[0mlast_TAC_energies\u001b[0m\u001b[0;34m[\u001b[0m\u001b[0;36m0\u001b[0m\u001b[0;34m]\u001b[0m\u001b[0;34m.\u001b[0m\u001b[0mmean\u001b[0m\u001b[0;34m(\u001b[0m\u001b[0;34m)\u001b[0m\u001b[0;34m,\u001b[0m \u001b[0mlast_sign_energies\u001b[0m\u001b[0;34m[\u001b[0m\u001b[0;36m0\u001b[0m\u001b[0;34m]\u001b[0m\u001b[0;34m.\u001b[0m\u001b[0mmean\u001b[0m\u001b[0;34m(\u001b[0m\u001b[0;34m)\u001b[0m\u001b[0;34m,\u001b[0m \u001b[0mend_t\u001b[0m\u001b[0;34m-\u001b[0m\u001b[0mstart_t\u001b[0m\u001b[0;34m]\u001b[0m\u001b[0;34m\u001b[0m\u001b[0;34m\u001b[0m\u001b[0m\n\u001b[0m",
      "\u001b[0;31mNameError\u001b[0m: name 'end_t' is not defined"
     ]
    }
   ],
   "source": [
    "[last_energies[0].mean(), last_TAC_energies[0].mean(), last_sign_energies[0].mean(), end_t-start_t]"
   ]
  },
  {
   "cell_type": "code",
   "execution_count": 27,
   "metadata": {},
   "outputs": [],
   "source": [
    "manager.save_energies_history = False\n",
    "manager.save_states_history = False\n",
    "manager.stopping_criterion = 0.3\n",
    "manager.num_simulations = 2\n",
    "\n",
    "performances = [] # will hold lits of last_energies, last_TAC_energies, last_sign_energies\n",
    "\n",
    "ks = [0, 0.1, 0.2, 0.3, 0.4, 0.5]\n",
    "\n",
    "for k in ks:\n",
    "    _, _, last_states, last_TAC_states, last_sign_States, last_energies, last_TAC_energies, last_sign_energies, final_times, sign_times, TAC_times = manager.run_simulation()\n",
    "\n",
    "    perf = [last_energies[0].mean(), last_TAC_energies[0].mean(), last_sign_energies[0].mean(), final_times[0], TAC_times[0], sign_times[0]]\n",
    "    performances.append(perf)"
   ]
  },
  {
   "cell_type": "code",
   "execution_count": 28,
   "metadata": {},
   "outputs": [
    {
     "data": {
      "text/plain": [
       "(9, 6)"
      ]
     },
     "execution_count": 28,
     "metadata": {},
     "output_type": "execute_result"
    }
   ],
   "source": [
    "np.array(performances).shape"
   ]
  },
  {
   "cell_type": "code",
   "execution_count": 29,
   "metadata": {},
   "outputs": [],
   "source": [
    "df = pd.DataFrame(performances, columns=['final_sign_energies', 'last_TAC_energies', 'sign_energies', 'final_time', 'TAC_time', 'sign_time'])"
   ]
  },
  {
   "cell_type": "code",
   "execution_count": 30,
   "metadata": {},
   "outputs": [
    {
     "data": {
      "text/html": [
       "<div>\n",
       "<style scoped>\n",
       "    .dataframe tbody tr th:only-of-type {\n",
       "        vertical-align: middle;\n",
       "    }\n",
       "\n",
       "    .dataframe tbody tr th {\n",
       "        vertical-align: top;\n",
       "    }\n",
       "\n",
       "    .dataframe thead th {\n",
       "        text-align: right;\n",
       "    }\n",
       "</style>\n",
       "<table border=\"1\" class=\"dataframe\">\n",
       "  <thead>\n",
       "    <tr style=\"text-align: right;\">\n",
       "      <th></th>\n",
       "      <th>final_sign_energies</th>\n",
       "      <th>last_TAC_energies</th>\n",
       "      <th>sign_energies</th>\n",
       "      <th>final_time</th>\n",
       "      <th>TAC_time</th>\n",
       "      <th>sign_time</th>\n",
       "    </tr>\n",
       "  </thead>\n",
       "  <tbody>\n",
       "    <tr>\n",
       "      <th>0</th>\n",
       "      <td>-379058.287517</td>\n",
       "      <td>-379058.287517</td>\n",
       "      <td>-379615.796247</td>\n",
       "      <td>4.150421</td>\n",
       "      <td>1.482984</td>\n",
       "      <td>0.162025</td>\n",
       "    </tr>\n",
       "    <tr>\n",
       "      <th>1</th>\n",
       "      <td>-380509.065265</td>\n",
       "      <td>-380509.065265</td>\n",
       "      <td>-380799.256976</td>\n",
       "      <td>4.430960</td>\n",
       "      <td>1.458688</td>\n",
       "      <td>0.142570</td>\n",
       "    </tr>\n",
       "    <tr>\n",
       "      <th>2</th>\n",
       "      <td>-379447.636137</td>\n",
       "      <td>-379447.636137</td>\n",
       "      <td>-380022.073672</td>\n",
       "      <td>4.191874</td>\n",
       "      <td>1.391705</td>\n",
       "      <td>0.142948</td>\n",
       "    </tr>\n",
       "    <tr>\n",
       "      <th>3</th>\n",
       "      <td>-377556.381912</td>\n",
       "      <td>-377556.381912</td>\n",
       "      <td>-378153.568903</td>\n",
       "      <td>3.954197</td>\n",
       "      <td>1.376605</td>\n",
       "      <td>0.111323</td>\n",
       "    </tr>\n",
       "    <tr>\n",
       "      <th>4</th>\n",
       "      <td>-380806.090351</td>\n",
       "      <td>-380806.090351</td>\n",
       "      <td>-381023.230853</td>\n",
       "      <td>3.801933</td>\n",
       "      <td>1.359168</td>\n",
       "      <td>0.104891</td>\n",
       "    </tr>\n",
       "  </tbody>\n",
       "</table>\n",
       "</div>"
      ],
      "text/plain": [
       "   final_sign_energies  last_TAC_energies  sign_energies  final_time  \\\n",
       "0       -379058.287517     -379058.287517 -379615.796247    4.150421   \n",
       "1       -380509.065265     -380509.065265 -380799.256976    4.430960   \n",
       "2       -379447.636137     -379447.636137 -380022.073672    4.191874   \n",
       "3       -377556.381912     -377556.381912 -378153.568903    3.954197   \n",
       "4       -380806.090351     -380806.090351 -381023.230853    3.801933   \n",
       "\n",
       "   TAC_time  sign_time  \n",
       "0  1.482984   0.162025  \n",
       "1  1.458688   0.142570  \n",
       "2  1.391705   0.142948  \n",
       "3  1.376605   0.111323  \n",
       "4  1.359168   0.104891  "
      ]
     },
     "execution_count": 30,
     "metadata": {},
     "output_type": "execute_result"
    }
   ],
   "source": [
    "df.head()"
   ]
  },
  {
   "cell_type": "code",
   "execution_count": 31,
   "metadata": {},
   "outputs": [
    {
     "data": {
      "image/png": "[encoded data removed]",
      "text/plain": [
       "<Figure size 720x432 with 1 Axes>"
      ]
     },
     "metadata": {
      "needs_background": "light"
     },
     "output_type": "display_data"
    }
   ],
   "source": [
    "# Scatter plot\n",
    "plt.figure(figsize=(10, 6))\n",
    "plt.scatter(df['final_time'], df['final_sign_energies'], marker='^', label='Full simulation nergies') # Circle marker\n",
    "plt.scatter(df['TAC_time'], df['last_TAC_energies'], marker='x', label='TAC-stopping Energies') # Cross marker\n",
    "plt.scatter(df['sign_time'], df['sign_energies'], marker='o', label='Sign-stopping Energies') # Cross marker  \n",
    "\n",
    "\n",
    "# Adding labels and title\n",
    "plt.xlabel(\"$t$ (sec)\")\n",
    "plt.ylabel('Energy')\n",
    "# plt.title('Energy vs. Time Scatter Plot')\n",
    "plt.legend()\n",
    "plt.savefig('figures/energy_vs_time_normal_2000.png', dpi=300)"
   ]
  },
  {
   "cell_type": "code",
   "execution_count": null,
   "metadata": {},
   "outputs": [],
   "source": [
    "def compute_forces(positions): \n",
    "    #-------- Gradient of the potential energy --------\n",
    "    forces = -np.dot(J, positions.T).T\n",
    "    \n",
    "    return forces\n",
    "    #-------- For CIM amplitude dynamics --------\n",
    "    # forces += (-1 + self.pumping_rate(t) - np.square(positions)) * positions"
   ]
  },
  {
   "cell_type": "code",
   "execution_count": null,
   "metadata": {},
   "outputs": [],
   "source": [
    "def TAC(current_state):\n",
    "        current_state = np.copy(current_state)\n",
    "\n",
    "        all_positions = current_state[:, :, 0]\n",
    "\n",
    "        k = 0.5\n",
    "        \n",
    "        all_spins = np.zeros_like(all_positions)\n",
    "\n",
    "        for sim_index in range(2):\n",
    "                positions = all_positions[sim_index]\n",
    "                epsilon = k*np.linalg.norm(positions)/np.sqrt(800)\n",
    "         \n",
    "                # STEP 1: Trap the traped nodes and put the swing nodes to zero\n",
    "                spins = np.where(np.abs(positions) < epsilon, 0, np.sign(positions))\n",
    "                # print(spins)\n",
    "                # STEP 2:\n",
    "                zero_indexes = np.where(spins==0)[0]\n",
    "\n",
    "                \n",
    "                while zero_indexes.shape[0] != 0:\n",
    "                        index = np.random.randint(0, zero_indexes+1)\n",
    "                        spins[index] = np.sign(compute_forces(spins)[index])\n",
    "                        \n",
    "                        \n",
    "                        prev_count = zero_indexes.shape[0]\n",
    "                        zero_indexes = np.where(spins!=0)[0]\n",
    "                        if zero_indexes.shape[0] == prev_count:\n",
    "                                print(\"TAC failed to converge\")\n",
    "                                break\n",
    "                \n",
    "                all_spins[sim_index] = spins\n",
    "        \n",
    "        return all_spins"
   ]
  },
  {
   "cell_type": "code",
   "execution_count": null,
   "metadata": {},
   "outputs": [],
   "source": [
    "def TAC(current_state):\n",
    "        current_state = np.copy(current_state)\n",
    "\n",
    "        positions = current_state[:, :, 0]\n",
    "\n",
    "        k = 0.5\n",
    "        \n",
    "        spins = np.zeros_like(positions)\n",
    "\n",
    "        epsilons = k*np.linalg.norm(positions)/np.sqrt(800)        \n",
    "\n",
    "        # STEP 1: Trap the traped nodes and put the swing nodes to zer\n",
    "        spins = np.where(np.abs(positions) < epsilons, 0, np.sign(positions))\n",
    "\n",
    "        # STEP 2: Randomly select the the oder in which we are going to set the spins associated to the swing nodes\n",
    "        zero_indexes = np.where(spins==0)\n",
    "\n",
    "        # STEP 3:\n",
    "        for sim_index in range(2):\n",
    "                sim_spins = spins[sim_index]\n",
    "                zero_indexes = np.where(sim_spins==0)[0]\n",
    "                np.random.shuffle(zero_indexes)\n",
    "\n",
    "                for index in zero_indexes:\n",
    "                        sim_spins[index] = np.sign(compute_forces(sim_spins)[index])\n",
    "                \n",
    "                prev_count = zero_indexes.shape[0]\n",
    "                zero_indexes = np.where(sim_spins==0)[0]\n",
    "                if zero_indexes.shape[0] == prev_count:\n",
    "                        print(\"TAC failed to converge\")\n",
    "                        break\n",
    "                \n",
    "                spins[sim_index] = sim_spins\n",
    "        \n",
    "        return spins"
   ]
  },
  {
   "cell_type": "code",
   "execution_count": null,
   "metadata": {},
   "outputs": [
    {
     "data": {
      "text/plain": [
       "(2, 800)"
      ]
     },
     "execution_count": 17,
     "metadata": {},
     "output_type": "execute_result"
    }
   ],
   "source": [
    "currrent_state = states[:, :, 100, :]\n",
    "TAC(currrent_state).shape"
   ]
  },
  {
   "cell_type": "code",
   "execution_count": null,
   "metadata": {},
   "outputs": [],
   "source": [
    "def compute_energies(positions):\n",
    "        signed_positions = np.where(positions > 0, 1, -1)\n",
    "        current_energies = np.sum(signed_positions @ J * signed_positions, axis=1) + H @ signed_positions.T\n",
    "\n",
    "        return current_energies"
   ]
  },
  {
   "cell_type": "code",
   "execution_count": null,
   "metadata": {},
   "outputs": [
    {
     "ename": "KeyboardInterrupt",
     "evalue": "",
     "output_type": "error",
     "traceback": [
      "\u001b[0;31m---------------------------------------------------------------------------\u001b[0m",
      "\u001b[0;31mKeyboardInterrupt\u001b[0m                         Traceback (most recent call last)",
      "\u001b[0;32m/var/folders/yg/x9721f3x1x32ymx9lck7xw900000gn/T/ipykernel_5375/1067210080.py\u001b[0m in \u001b[0;36m<module>\u001b[0;34m\u001b[0m\n\u001b[1;32m      4\u001b[0m \u001b[0;32mfor\u001b[0m \u001b[0mt\u001b[0m \u001b[0;32min\u001b[0m \u001b[0mrange\u001b[0m\u001b[0;34m(\u001b[0m\u001b[0mnum_iterations\u001b[0m\u001b[0;34m)\u001b[0m\u001b[0;34m:\u001b[0m\u001b[0;34m\u001b[0m\u001b[0;34m\u001b[0m\u001b[0m\n\u001b[1;32m      5\u001b[0m     \u001b[0mcurrent_state\u001b[0m \u001b[0;34m=\u001b[0m \u001b[0mstates\u001b[0m\u001b[0;34m[\u001b[0m\u001b[0;34m:\u001b[0m\u001b[0;34m,\u001b[0m \u001b[0;34m:\u001b[0m\u001b[0;34m,\u001b[0m \u001b[0mt\u001b[0m\u001b[0;34m,\u001b[0m \u001b[0;34m:\u001b[0m\u001b[0;34m]\u001b[0m \u001b[0;31m# (num_simulations, instance_size, 2)\u001b[0m\u001b[0;34m\u001b[0m\u001b[0;34m\u001b[0m\u001b[0m\n\u001b[0;32m----> 6\u001b[0;31m     \u001b[0mTACed_positions\u001b[0m \u001b[0;34m=\u001b[0m \u001b[0mTAC\u001b[0m\u001b[0;34m(\u001b[0m\u001b[0mcurrent_state\u001b[0m\u001b[0;34m)\u001b[0m \u001b[0;31m# (num_simulations, instance_size)\u001b[0m\u001b[0;34m\u001b[0m\u001b[0;34m\u001b[0m\u001b[0m\n\u001b[0m\u001b[1;32m      7\u001b[0m     \u001b[0mTACed_energies\u001b[0m\u001b[0;34m[\u001b[0m\u001b[0mt\u001b[0m\u001b[0;34m]\u001b[0m \u001b[0;34m=\u001b[0m \u001b[0mcompute_energies\u001b[0m\u001b[0;34m(\u001b[0m\u001b[0mTACed_positions\u001b[0m\u001b[0;34m)\u001b[0m\u001b[0;34m\u001b[0m\u001b[0;34m\u001b[0m\u001b[0m\n\u001b[1;32m      8\u001b[0m \u001b[0;34m\u001b[0m\u001b[0m\n",
      "\u001b[0;32m/var/folders/yg/x9721f3x1x32ymx9lck7xw900000gn/T/ipykernel_5375/1749521430.py\u001b[0m in \u001b[0;36mTAC\u001b[0;34m(current_state)\u001b[0m\n\u001b[1;32m     23\u001b[0m \u001b[0;34m\u001b[0m\u001b[0m\n\u001b[1;32m     24\u001b[0m                 \u001b[0;32mfor\u001b[0m \u001b[0mindex\u001b[0m \u001b[0;32min\u001b[0m \u001b[0mzero_indexes\u001b[0m\u001b[0;34m:\u001b[0m\u001b[0;34m\u001b[0m\u001b[0;34m\u001b[0m\u001b[0m\n\u001b[0;32m---> 25\u001b[0;31m                         \u001b[0msim_spins\u001b[0m\u001b[0;34m[\u001b[0m\u001b[0mindex\u001b[0m\u001b[0;34m]\u001b[0m \u001b[0;34m=\u001b[0m \u001b[0mnp\u001b[0m\u001b[0;34m.\u001b[0m\u001b[0msign\u001b[0m\u001b[0;34m(\u001b[0m\u001b[0mcompute_forces\u001b[0m\u001b[0;34m(\u001b[0m\u001b[0msim_spins\u001b[0m\u001b[0;34m)\u001b[0m\u001b[0;34m[\u001b[0m\u001b[0mindex\u001b[0m\u001b[0;34m]\u001b[0m\u001b[0;34m)\u001b[0m\u001b[0;34m\u001b[0m\u001b[0;34m\u001b[0m\u001b[0m\n\u001b[0m\u001b[1;32m     26\u001b[0m \u001b[0;34m\u001b[0m\u001b[0m\n\u001b[1;32m     27\u001b[0m                 \u001b[0mprev_count\u001b[0m \u001b[0;34m=\u001b[0m \u001b[0mzero_indexes\u001b[0m\u001b[0;34m.\u001b[0m\u001b[0mshape\u001b[0m\u001b[0;34m[\u001b[0m\u001b[0;36m0\u001b[0m\u001b[0;34m]\u001b[0m\u001b[0;34m\u001b[0m\u001b[0;34m\u001b[0m\u001b[0m\n",
      "\u001b[0;32m/var/folders/yg/x9721f3x1x32ymx9lck7xw900000gn/T/ipykernel_5375/1560303334.py\u001b[0m in \u001b[0;36mcompute_forces\u001b[0;34m(positions)\u001b[0m\n\u001b[1;32m      1\u001b[0m \u001b[0;32mdef\u001b[0m \u001b[0mcompute_forces\u001b[0m\u001b[0;34m(\u001b[0m\u001b[0mpositions\u001b[0m\u001b[0;34m)\u001b[0m\u001b[0;34m:\u001b[0m\u001b[0;34m\u001b[0m\u001b[0;34m\u001b[0m\u001b[0m\n\u001b[1;32m      2\u001b[0m     \u001b[0;31m#-------- Gradient of the potential energy --------\u001b[0m\u001b[0;34m\u001b[0m\u001b[0;34m\u001b[0m\u001b[0m\n\u001b[0;32m----> 3\u001b[0;31m     \u001b[0mforces\u001b[0m \u001b[0;34m=\u001b[0m \u001b[0;34m-\u001b[0m\u001b[0mnp\u001b[0m\u001b[0;34m.\u001b[0m\u001b[0mdot\u001b[0m\u001b[0;34m(\u001b[0m\u001b[0mJ\u001b[0m\u001b[0;34m,\u001b[0m \u001b[0mpositions\u001b[0m\u001b[0;34m.\u001b[0m\u001b[0mT\u001b[0m\u001b[0;34m)\u001b[0m\u001b[0;34m.\u001b[0m\u001b[0mT\u001b[0m\u001b[0;34m\u001b[0m\u001b[0;34m\u001b[0m\u001b[0m\n\u001b[0m\u001b[1;32m      4\u001b[0m \u001b[0;34m\u001b[0m\u001b[0m\n\u001b[1;32m      5\u001b[0m     \u001b[0;32mreturn\u001b[0m \u001b[0mforces\u001b[0m\u001b[0;34m\u001b[0m\u001b[0;34m\u001b[0m\u001b[0m\n",
      "\u001b[0;32m~/miniconda3/lib/python3.9/site-packages/numpy/core/overrides.py\u001b[0m in \u001b[0;36mdot\u001b[0;34m(*args, **kwargs)\u001b[0m\n",
      "\u001b[0;31mKeyboardInterrupt\u001b[0m: "
     ]
    }
   ],
   "source": [
    "TACed_energies = np.zeros((num_iterations, 2))\n",
    "singed_energies = np.zeros((num_iterations, 2))\n",
    "\n",
    "for t in range(num_iterations):\n",
    "    current_state = states[:, :, t, :] # (num_simulations, instance_size, 2)\n",
    "    TACed_positions = TAC(current_state) # (num_simulations, instance_size)\n",
    "    TACed_energies[t] = compute_energies(TACed_positions)\n",
    "\n",
    "    singed_energies[t] = compute_energies(np.sign(current_state[:, :, 0]))"
   ]
  },
  {
   "cell_type": "code",
   "execution_count": null,
   "metadata": {},
   "outputs": [
    {
     "data": {
      "text/plain": [
       "Text(0.5, 0, '$t$')"
      ]
     },
     "execution_count": 102,
     "metadata": {},
     "output_type": "execute_result"
    },
    {
     "data": {
      "image/png": "[encoded data removed]",
      "text/plain": [
       "<Figure size 432x288 with 1 Axes>"
      ]
     },
     "metadata": {
      "needs_background": "light"
     },
     "output_type": "display_data"
    }
   ],
   "source": [
    "plt.plot(TACed_energies[:, 0][:]);\n",
    "plt.plot(singed_energies[:, 0][:]);\n",
    "plt.plot(energies[0, :][:]);\n",
    "plt.legend(['TAC', 'Sign', 'Raw'])\n",
    "# plt.title(\"Impact of early stoping techniques on the system energies\")\n",
    "plt.ylabel(\"Energy\")\n",
    "plt.xlabel(\"$t$\")\n",
    "# plt.savefig('figures/early_stoping_CIM_normal.png', dpi=1200)"
   ]
  },
  {
   "cell_type": "code",
   "execution_count": null,
   "metadata": {},
   "outputs": [],
   "source": [
    "TACed_energies_avg = TACed_energies.mean(axis=1)\n",
    "signed_energies_avg = singed_energies.mean(axis=1)"
   ]
  },
  {
   "cell_type": "code",
   "execution_count": null,
   "metadata": {},
   "outputs": [
    {
     "data": {
      "text/plain": [
       "<matplotlib.legend.Legend at 0x1123e0130>"
      ]
     },
     "execution_count": 71,
     "metadata": {},
     "output_type": "execute_result"
    },
    {
     "data": {
      "image/png": "[encoded data removed]",
      "text/plain": [
       "<Figure size 432x288 with 1 Axes>"
      ]
     },
     "metadata": {
      "needs_background": "light"
     },
     "output_type": "display_data"
    }
   ],
   "source": [
    "plt.plot(TACed_energies_avg);\n",
    "plt.plot(signed_energies_avg);\n",
    "plt.plot(energies.mean(axis=0));\n",
    "plt.legend(['TAC', 'Sign', 'Raw'])"
   ]
  },
  {
   "cell_type": "code",
   "execution_count": null,
   "metadata": {},
   "outputs": [],
   "source": []
  },
  {
   "cell_type": "code",
   "execution_count": null,
   "metadata": {},
   "outputs": [
    {
     "data": {
      "image/png": "[encoded data removed]",
      "text/plain": [
       "<Figure size 432x288 with 1 Axes>"
      ]
     },
     "metadata": {
      "needs_background": "light"
     },
     "output_type": "display_data"
    },
    {
     "data": {
      "text/plain": [
       "-96050.07355149815"
      ]
     },
     "execution_count": 72,
     "metadata": {},
     "output_type": "execute_result"
    }
   ],
   "source": [
    "results_annalysis.plot_energies_evolution(energies)\n",
    "results_annalysis.extract_full_solution(states, energies)[0]"
   ]
  },
  {
   "cell_type": "code",
   "execution_count": null,
   "metadata": {},
   "outputs": [
    {
     "data": {
      "image/png": "[encoded data removed]",
      "text/plain": [
       "<Figure size 432x288 with 1 Axes>"
      ]
     },
     "metadata": {
      "needs_background": "light"
     },
     "output_type": "display_data"
    }
   ],
   "source": [
    "# positions = states[:, :, :, 0]\n",
    "# n_cond_init, n_particle,  n_iterration = positions.shape \n",
    "# abcisses = np.arange(n_iterration)\n",
    "\n",
    "# for i in range(n_particle):\n",
    "#     plt.plot(abcisses, (positions[1, i, :]))\n",
    "#     plt.xlabel(\"$t$\")\n",
    "#     plt.ylabel(\"Oscillators positions $x_i$\")\n",
    "#     # plt.title(\"Evolution of the positions of the oscillators\")\n",
    "\n",
    "# plt.axvline(x = t_first, color = 'b', label = 'axvline - full height')\n",
    "# plt.axvline(x = t_last, color = 'b', label = 'axvline - full height')\n",
    "# plt.savefig('figures/bifurcation_control_CIM_normal.jpg', dpi=1200)\n",
    "# # plt.plot(abcisses, pressures)"
   ]
  },
  {
   "cell_type": "code",
   "execution_count": null,
   "metadata": {},
   "outputs": [],
   "source": [
    "positions = positions[:, :, 253]"
   ]
  },
  {
   "cell_type": "code",
   "execution_count": null,
   "metadata": {},
   "outputs": [],
   "source": [
    "positions = positions[0]"
   ]
  },
  {
   "cell_type": "code",
   "execution_count": null,
   "metadata": {},
   "outputs": [
    {
     "data": {
      "text/plain": [
       "array([  8,  10,  16,  22,  24,  26,  27,  29,  39,  54,  60,  83,  91,\n",
       "       103, 109, 112, 118, 121, 130, 131, 133, 136, 142, 143, 149, 154,\n",
       "       156, 165, 172, 179, 186, 188, 190, 199, 201, 206, 223, 226, 241,\n",
       "       247, 249, 258, 263, 264, 266, 267, 269, 281, 284, 297, 300, 314,\n",
       "       315, 322, 324, 328, 330, 332, 335, 339, 340, 345, 348, 349, 351,\n",
       "       364, 365, 385, 387, 392, 393, 396, 399, 407, 411, 414, 424, 426,\n",
       "       430, 438, 441, 447, 457, 465, 474, 481, 482, 485, 505, 507, 511,\n",
       "       516, 519, 520, 531, 540, 546, 562, 567, 571, 572, 577, 582, 586,\n",
       "       590, 596, 604, 618, 622, 633, 634, 635, 655, 657, 658, 659, 672,\n",
       "       675, 697, 702, 703, 704, 706, 712, 717, 719, 720, 723, 727, 732,\n",
       "       739, 742, 752, 755, 757, 760, 772, 783, 784, 789, 791])"
      ]
     },
     "execution_count": 92,
     "metadata": {},
     "output_type": "execute_result"
    }
   ],
   "source": [
    "indexes = np.where(positions==1)[0]\n",
    "indexes"
   ]
  },
  {
   "cell_type": "code",
   "execution_count": null,
   "metadata": {},
   "outputs": [
    {
     "data": {
      "text/plain": [
       "array([340,  91, 103, 267, 339, 727, 297, 789, 720, 732, 364, 582, 505,\n",
       "       562, 263, 188, 655, 133, 635, 755, 672, 136, 131, 757, 791, 482,\n",
       "       223, 172, 457, 258, 424, 577, 519, 324, 314,  10, 531, 704, 351,\n",
       "       414, 441, 596, 657, 784, 149, 659, 772, 426, 396, 109, 247, 516,\n",
       "       206, 447, 387, 712, 697, 118,   8, 485, 702,  83, 385, 703, 199,\n",
       "       143,  27,  24, 154,  54,  60, 474, 717, 226, 658, 760, 465,  29,\n",
       "       186, 706, 121, 201, 249, 742, 335, 315, 739, 349, 590, 633, 567,\n",
       "       507, 430, 165, 142, 675, 179, 269, 330, 481, 332, 393, 322, 365,\n",
       "       719, 540, 130, 604, 546, 634, 264, 723, 399, 156, 190, 618, 572,\n",
       "       407, 345, 328, 348, 411,  16, 586, 511, 281,  39,  22, 622,  26,\n",
       "       241, 284, 300, 783, 438, 266, 752, 392, 571, 520, 112])"
      ]
     },
     "execution_count": 95,
     "metadata": {},
     "output_type": "execute_result"
    }
   ],
   "source": [
    "np.random.shuffle(indexes)\n",
    "indexes"
   ]
  },
  {
   "cell_type": "code",
   "execution_count": null,
   "metadata": {},
   "outputs": [],
   "source": []
  }
 ],
 "metadata": {
  "kernelspec": {
   "display_name": "base",
   "language": "python",
   "name": "python3"
  },
  "language_info": {
   "codemirror_mode": {
    "name": "ipython",
    "version": 3
   },
   "file_extension": ".py",
   "mimetype": "text/x-python",
   "name": "python",
   "nbconvert_exporter": "python",
   "pygments_lexer": "ipython3",
   "version": "3.9.7"
  },
  "orig_nbformat": 4
 },
 "nbformat": 4,
 "nbformat_minor": 2
}
