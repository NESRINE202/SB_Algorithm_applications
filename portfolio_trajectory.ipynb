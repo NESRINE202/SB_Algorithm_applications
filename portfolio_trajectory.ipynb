{
 "cells": [
  {
   "cell_type": "code",
   "execution_count": null,
   "metadata": {},
   "outputs": [],
   "source": [
    "import numpy as np\n",
    "import simulation_manager, results_annalysis\n",
    "import matplotlib.pyplot as plt\n",
    "import time\n",
    "import pandas as pd"
   ]
  },
  {
   "cell_type": "code",
   "execution_count": null,
   "metadata": {},
   "outputs": [],
   "source": [
    "def P_aug(N,bit): \n",
    "    P = np.zeros((N,N*bit))\n",
    "    b = np.array([2**i for i in range(bit)])\n",
    "    for i in range(N):\n",
    "        debut = i*bit\n",
    "        fin = debut + bit \n",
    "        P[i,debut:fin] = b \n",
    "\n",
    "    return P "
   ]
  },
  {
   "cell_type": "code",
   "execution_count": null,
   "metadata": {},
   "outputs": [],
   "source": [
    "def reduction_markovitz(sigma,mu,alpha,K,bit=1,penaly = 0,compact= False):\n",
    "    \"\"\"\n",
    "    From the covariance matrix and the excpected return vector returns the J and H \n",
    "    of the Ising mapping \n",
    "\n",
    "    ARGS: \n",
    "    sigma: covariance matrix \n",
    "    mu: excpected return vector\n",
    "    alpha : aversion constant \n",
    "    K : The budget \n",
    "    penalty: If we add the constraint in the energy \n",
    "    Output: \n",
    "    J : \n",
    "    H: \n",
    "    \"\"\"\n",
    "    Bit_max = int(np.log2(K))\n",
    "    bit = Bit_max\n",
    "    N = len(mu) # Number of assets considered \n",
    "    U = np.ones(bit*N) \n",
    "    P = P_aug(N,bit)\n",
    "    sigma_augmented = P.T @ sigma @ P\n",
    "    mu_augmented = P.T @ mu \n",
    "    I_augmented = P.T @ np.ones(N)\n",
    "\n",
    "    J = - (alpha/2)* sigma_augmented\n",
    "    H = (alpha/2) * sigma_augmented @ U - mu_augmented - penaly*I_augmented\n",
    "    np.fill_diagonal(J,0)\n",
    "\n",
    "    if not compact: \n",
    "        return  J,H\n",
    "    else: \n",
    "        # In here we will follow the methods used in paper 2023\n",
    "        J_compact = np.zeros((len(J)+1,len(J)+1))\n",
    "        J_compact[:len(J),:len(J)] = J\n",
    "        J_compact[:len(J),len(J)] = H \n",
    "        J_compact[len(J),:len(J)] = H\n",
    "        H_compact = np.zeros(len(H)+1)\n",
    "        # H_compact[:len(H)] = H\n",
    "\n",
    "        return J_compact,H_compact"
   ]
  },
  {
   "cell_type": "code",
   "execution_count": null,
   "metadata": {},
   "outputs": [],
   "source": [
    "def pumpuing_rate(self, t):\n",
    "        # return t/100\n",
    "        if t<lag:\n",
    "            return 0\n",
    "        else:\n",
    "            return 1 * p_last * (t-lag)/(num_iterations-lag)"
   ]
  },
  {
   "cell_type": "code",
   "execution_count": null,
   "metadata": {},
   "outputs": [],
   "source": [
    "def reverse(solution,N,K): \n",
    "    solution += 1\n",
    "    solution /=2\n",
    "    bit = int(np.log2(K))\n",
    "    P = P_aug(N,bit)\n",
    "    return P@solution"
   ]
  },
  {
   "cell_type": "code",
   "execution_count": null,
   "metadata": {},
   "outputs": [],
   "source": [
    "def penalized_trajectory(J,H,s):\n",
    "    Penality=c/2 P.T @ P\n",
    "    J=J+Penality\n",
    "    H=H-2*Penality @ s\n",
    "    return J,H"
   ]
  },
  {
   "cell_type": "code",
   "execution_count": null,
   "metadata": {},
   "outputs": [],
   "source": [
    "def resolve_optimal_portfolio_trajectory(sigma_list,mu_list)   \n",
    "    \n",
    "    for t in range(len(mu_list)):\n",
    "        J,H = reduction_markovitz(sigma,mu,alpha = 2,K=10,bit=3,penaly= 1,compact=False)\n",
    "        if t>0:\n",
    "            J,H  = penalized_trajectory (J,H,states[-1])\n",
    "        eigs = np.linalg.eigvals(J)\n",
    "        ksi = 1/(eigs.max())\n",
    "        p_first = 1-ksi*np.real(eigs.max())\n",
    "        p_last = 1-ksi*np.real(eigs.min())\n",
    "        num_iterations = 1000\n",
    "        lag = 0\n",
    "        manager = simulation_manager.SimulationManager(step_size=0.5, num_iterations=num_iterations, num_simulations=2, J=J, H=H, pumping_rate=pumpuing_rate, stopping_criterion=0.1, save_states_history=True, save_energies_history=True, n_threads=2, savetofile=False)\n",
    "        new_states, _, _, _, _, _, _, _, _, _, _ = manager.run_simulation()\n",
    "        states.append(new_states)\n",
    "    return states\n"
   ]
  }
 ],
 "metadata": {
  "language_info": {
   "name": "python"
  }
 },
 "nbformat": 4,
 "nbformat_minor": 2
}
